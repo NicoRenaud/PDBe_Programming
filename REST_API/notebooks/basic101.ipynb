{
 "metadata": {
  "name": "",
  "signature": "sha256:4763d932625b7de630c84058263487407591efdb231a03266685a8c0f26c9a56"
 },
 "nbformat": 3,
 "nbformat_minor": 0,
 "worksheets": [
  {
   "cells": [
    {
     "cell_type": "markdown",
     "metadata": {},
     "source": [
      "# PDBe REST API 101"
     ]
    },
    {
     "cell_type": "code",
     "collapsed": false,
     "input": [
      "import sys\n",
      "\n",
      "PY3 = sys.version > '3'\n",
      "\n",
      "if PY3:\n",
      "    import urllib.request as urllib2\n",
      "else:\n",
      "    import urllib2\n",
      "\n",
      "SERVER_URL = \"https://www.ebi.ac.uk/pdbe/api\"\n",
      "\n",
      "def make_request(url, data):   \n",
      "    request = urllib2.Request(url)\n",
      "\n",
      "    try:\n",
      "        url_file = urllib2.urlopen(request, data)\n",
      "    except urllib2.HTTPError as e:\n",
      "        if e.code == 404:\n",
      "            print(\"[NOTFOUND %d] %s\" % (e.code, url))\n",
      "        else:\n",
      "            print(\"[ERROR %d] %s\" % (e.code, url))\n",
      "\n",
      "        return None\n",
      "\n",
      "    return url_file.read().decode()\n",
      "\n",
      "def get_request(url, arg, pretty=False):\n",
      "    full_url = \"%s/%s/%s?pretty=%s\" % (SERVER_URL, url, arg, str(pretty).lower())\n",
      "    \n",
      "    return make_request(full_url, None)\n",
      "\n",
      "def post_request(url, data, pretty=False):\n",
      "    full_url = \"%s/%s/?pretty=%s\" % (SERVER_URL, url, str(pretty).lower())\n",
      "    \n",
      "    if isinstance(data, (list, tuple)):\n",
      "        data = \",\".join(data)\n",
      "    \n",
      "    return make_request(full_url, data.encode())\n"
     ],
     "language": "python",
     "metadata": {},
     "outputs": [],
     "prompt_number": 1
    },
    {
     "cell_type": "code",
     "collapsed": false,
     "input": [
      "summary = \"/pdb/entry/summary\"\n",
      "experiment = \"/pdb/entry/experiment\"\n",
      "sifts = \"/mappings\""
     ],
     "language": "python",
     "metadata": {},
     "outputs": [],
     "prompt_number": 2
    },
    {
     "cell_type": "markdown",
     "metadata": {},
     "source": [
      "We can make GET resquests simply by doing:"
     ]
    },
    {
     "cell_type": "code",
     "collapsed": false,
     "input": [
      "print(get_request(experiment, \"1cbs\", True))"
     ],
     "language": "python",
     "metadata": {},
     "outputs": [
      {
       "output_type": "stream",
       "stream": "stdout",
       "text": [
        "{\n",
        "    \"1cbs\": [\n",
        "        {\n",
        "            \"resolution_low\": 8,\n",
        "            \"r_factor\": 0.2,\n",
        "            \"r_free_selection_details\": null,\n",
        "            \"resolution_high\": 1.8,\n",
        "            \"r_free_percent_reflections\": null,\n",
        "            \"starting_model\": null,\n",
        "            \"refinement_software\": \"X-PLOR                  \",\n",
        "            \"completeness\": 90.54,\n",
        "            \"r_free\": 0.237,\n",
        "            \"cell\": {\n",
        "                \"a\": 45.65,\n",
        "                \"c\": 77.61,\n",
        "                \"b\": 47.56,\n",
        "                \"beta\": 90,\n",
        "                \"alpha\": 90,\n",
        "                \"gamma\": 90\n",
        "            },\n",
        "            \"percent_reflections_observed\": 90.3,\n",
        "            \"diffraction_experiment\": [\n",
        "                {\n",
        "                    \"wavelength_list\": null,\n",
        "                    \"detector_details\": null,\n",
        "                    \"beam_source_type\": null,\n",
        "                    \"detector_type\": null,\n",
        "                    \"synchrotron_beamline\": null,\n",
        "                    \"source_details\": null,\n",
        "                    \"synchrotron_site\": null,\n",
        "                    \"diffraction_protocol\": null,\n",
        "                    \"ambient_temp\": null,\n",
        "                    \"wavelength\": null,\n",
        "                    \"detector\": null,\n",
        "                    \"beam_source_name\": null\n",
        "                }\n",
        "            ],\n",
        "            \"expression_host_scientific_name\": [\n",
        "                {\n",
        "                    \"scientific_name\": \"Escherichia coli BL21(DE3)\",\n",
        "                    \"tax_id\": 469008\n",
        "                }\n",
        "            ],\n",
        "            \"crystal_growth\": [\n",
        "                {\n",
        "                    \"grow_details\": null,\n",
        "                    \"grow_ph\": null,\n",
        "                    \"grow_method\": null,\n",
        "                    \"grow_temperature\": null\n",
        "                }\n",
        "            ],\n",
        "            \"experimental_method\": \"X-ray diffraction\",\n",
        "            \"num_reflections\": 14678,\n",
        "            \"phasing_method\": null,\n",
        "            \"experiment_data_available\": \"Y\",\n",
        "            \"experimental_method_class\": \"x-ray\",\n",
        "            \"r_work\": 0.2,\n",
        "            \"spacegroup\": \"P 21 21 21\",\n",
        "            \"resolution\": 1.8,\n",
        "            \"structure_determination_method\": null\n",
        "        }\n",
        "    ]\n",
        "}\n"
       ]
      }
     ],
     "prompt_number": 11
    },
    {
     "cell_type": "markdown",
     "metadata": {},
     "source": [
      "POST requests passing a string:"
     ]
    },
    {
     "cell_type": "code",
     "collapsed": false,
     "input": [
      "print(post_request(summary, \"1cbs, 1otz, 2ktn\", True))"
     ],
     "language": "python",
     "metadata": {},
     "outputs": [
      {
       "output_type": "stream",
       "stream": "stdout",
       "text": [
        "{\n",
        "    \"1cbs\": [\n",
        "        {\n",
        "            \"experimental_method\": [\n",
        "                \"X-ray diffraction\"\n",
        "            ],\n",
        "            \"assemblies\": [\n",
        "                {\n",
        "                    \"preferred\": true,\n",
        "                    \"form\": \"homo\",\n",
        "                    \"name\": \"monomeric\",\n",
        "                    \"assembly_id\": \"1\"\n",
        "                }\n",
        "            ],\n",
        "            \"title\": \"CRYSTAL STRUCTURE OF CELLULAR RETINOIC-ACID-BINDING PROTEINS I AND II IN COMPLEX WITH ALL-TRANS-RETINOIC ACID AND A SYNTHETIC RETINOID\",\n",
        "            \"release_date\": \"19950126\",\n",
        "            \"split_entry\": null,\n",
        "            \"experimental_method_class\": [\n",
        "                \"x-ray\"\n",
        "            ],\n",
        "            \"revision_date\": \"20090224\",\n",
        "            \"entry_authors\": [\n",
        "                \"Bergfors, T.\",\n",
        "                \"Jones, T.A.\",\n",
        "                \"Kleywegt, G.J.\"\n",
        "            ],\n",
        "            \"deposition_site\": null,\n",
        "            \"number_of_entities\": {\n",
        "                \"water\": 1,\n",
        "                \"polypeptide\": 1,\n",
        "                \"other\": 0,\n",
        "                \"dna\": 0,\n",
        "                \"ligand\": 1,\n",
        "                \"dna/rna\": 0,\n",
        "                \"rna\": 0,\n",
        "                \"sugar\": 0\n",
        "            },\n",
        "            \"deposition_date\": \"19940928\",\n",
        "            \"processing_site\": null\n",
        "        }\n",
        "    ],\n",
        "    \"2ktn\": [\n",
        "        {\n",
        "            \"experimental_method\": [\n",
        "                \"Solution NMR\"\n",
        "            ],\n",
        "            \"assemblies\": [\n",
        "                {\n",
        "                    \"preferred\": true,\n",
        "                    \"form\": \"homo\",\n",
        "                    \"name\": \"monomeric\",\n",
        "                    \"assembly_id\": \"1\"\n",
        "                }\n",
        "            ],\n",
        "            \"title\": \"Spatial structure of Lch-alpha peptide from two-component lantibiotic system Lichenicidin VK21\",\n",
        "            \"release_date\": \"20100721\",\n",
        "            \"split_entry\": null,\n",
        "            \"experimental_method_class\": [\n",
        "                \"nmr\"\n",
        "            ],\n",
        "            \"revision_date\": \"20110810\",\n",
        "            \"entry_authors\": [\n",
        "                \"Arseniev, A.S.\",\n",
        "                \"Mineev, K.S.\",\n",
        "                \"Ovchinnikova, T.V.\",\n",
        "                \"Shenkarev, Z.O.\"\n",
        "            ],\n",
        "            \"deposition_site\": \"BMRB\",\n",
        "            \"number_of_entities\": {\n",
        "                \"water\": 0,\n",
        "                \"polypeptide\": 1,\n",
        "                \"other\": 0,\n",
        "                \"dna\": 0,\n",
        "                \"ligand\": 0,\n",
        "                \"dna/rna\": 0,\n",
        "                \"rna\": 0,\n",
        "                \"sugar\": 0\n",
        "            },\n",
        "            \"deposition_date\": \"20100205\",\n",
        "            \"processing_site\": \"RCSB\"\n",
        "        }\n",
        "    ]\n",
        "}\n"
       ]
      }
     ],
     "prompt_number": 4
    },
    {
     "cell_type": "markdown",
     "metadata": {},
     "source": [
      "A list:"
     ]
    },
    {
     "cell_type": "code",
     "collapsed": false,
     "input": [
      "print(post_request(summary, [\"1cbs\", \"1otz\", \"2ktn\"], True))"
     ],
     "language": "python",
     "metadata": {},
     "outputs": []
    },
    {
     "cell_type": "markdown",
     "metadata": {},
     "source": [
      "Or a tuple:"
     ]
    },
    {
     "cell_type": "code",
     "collapsed": false,
     "input": [
      "response = post_request(summary, (\"1cbs\", \"1otz\", \"2ktn\"))\n",
      "print(response)"
     ],
     "language": "python",
     "metadata": {},
     "outputs": [
      {
       "output_type": "stream",
       "stream": "stdout",
       "text": [
        "{\"1cbs\":[{\"experimental_method\":[\"X-ray diffraction\"],\"assemblies\":[{\"preferred\":true,\"form\":\"homo\",\"name\":\"monomeric\",\"assembly_id\":\"1\"}],\"title\":\"CRYSTAL STRUCTURE OF CELLULAR RETINOIC-ACID-BINDING PROTEINS I AND II IN COMPLEX WITH ALL-TRANS-RETINOIC ACID AND A SYNTHETIC RETINOID\",\"release_date\":\"19950126\",\"split_entry\":null,\"experimental_method_class\":[\"x-ray\"],\"revision_date\":\"20090224\",\"entry_authors\":[\"Bergfors, T.\",\"Jones, T.A.\",\"Kleywegt, G.J.\"],\"deposition_site\":null,\"number_of_entities\":{\"water\":1,\"polypeptide\":1,\"other\":0,\"dna\":0,\"ligand\":1,\"dna/rna\":0,\"rna\":0,\"sugar\":0},\"deposition_date\":\"19940928\",\"processing_site\":null}],\"2ktn\":[{\"experimental_method\":[\"Solution NMR\"],\"assemblies\":[{\"preferred\":true,\"form\":\"homo\",\"name\":\"monomeric\",\"assembly_id\":\"1\"}],\"title\":\"Spatial structure of Lch-alpha peptide from two-component lantibiotic system Lichenicidin VK21\",\"release_date\":\"20100721\",\"split_entry\":null,\"experimental_method_class\":[\"nmr\"],\"revision_date\":\"20110810\",\"entry_authors\":[\"Arseniev, A.S.\",\"Mineev, K.S.\",\"Ovchinnikova, T.V.\",\"Shenkarev, Z.O.\"],\"deposition_site\":\"BMRB\",\"number_of_entities\":{\"water\":0,\"polypeptide\":1,\"other\":0,\"dna\":0,\"ligand\":0,\"dna/rna\":0,\"rna\":0,\"sugar\":0},\"deposition_date\":\"20100205\",\"processing_site\":\"RCSB\"}]}\n"
       ]
      }
     ],
     "prompt_number": 6
    },
    {
     "cell_type": "markdown",
     "metadata": {},
     "source": [
      "Please note that we have not used the pretty=True argument in the last request. This is the best way to access the REST API programatically as, by eliminating all the whitespaces, you will save bandwidth and, therefore, time.\n",
      "\n",
      "The response is a string that can be parsed into a Python dictionary using the json module:"
     ]
    },
    {
     "cell_type": "code",
     "collapsed": false,
     "input": [
      "import json\n",
      "entries = json.loads(response)"
     ],
     "language": "python",
     "metadata": {},
     "outputs": [],
     "prompt_number": 7
    },
    {
     "cell_type": "markdown",
     "metadata": {},
     "source": [
      "And now we can access the elements individually:"
     ]
    },
    {
     "cell_type": "code",
     "collapsed": false,
     "input": [
      "print(entries[\"1cbs\"][0][\"experimental_method\"])\n",
      "print(entries[\"1cbs\"][0][\"entry_authors\"])"
     ],
     "language": "python",
     "metadata": {},
     "outputs": []
    },
    {
     "cell_type": "code",
     "collapsed": false,
     "input": [
      "entries[\"1cbs\"]"
     ],
     "language": "python",
     "metadata": {},
     "outputs": [
      {
       "metadata": {},
       "output_type": "pyout",
       "prompt_number": 12,
       "text": [
        "[{u'assemblies': [{u'assembly_id': u'1',\n",
        "    u'form': u'homo',\n",
        "    u'name': u'monomeric',\n",
        "    u'preferred': True}],\n",
        "  u'deposition_date': u'19940928',\n",
        "  u'deposition_site': None,\n",
        "  u'entry_authors': [u'Bergfors, T.', u'Jones, T.A.', u'Kleywegt, G.J.'],\n",
        "  u'experimental_method': [u'X-ray diffraction'],\n",
        "  u'experimental_method_class': [u'x-ray'],\n",
        "  u'number_of_entities': {u'dna': 0,\n",
        "   u'dna/rna': 0,\n",
        "   u'ligand': 1,\n",
        "   u'other': 0,\n",
        "   u'polypeptide': 1,\n",
        "   u'rna': 0,\n",
        "   u'sugar': 0,\n",
        "   u'water': 1},\n",
        "  u'processing_site': None,\n",
        "  u'release_date': u'19950126',\n",
        "  u'revision_date': u'20090224',\n",
        "  u'split_entry': None,\n",
        "  u'title': u'CRYSTAL STRUCTURE OF CELLULAR RETINOIC-ACID-BINDING PROTEINS I AND II IN COMPLEX WITH ALL-TRANS-RETINOIC ACID AND A SYNTHETIC RETINOID'}]"
       ]
      }
     ],
     "prompt_number": 12
    },
    {
     "cell_type": "code",
     "collapsed": false,
     "input": [
      "for k in entries.keys():\n",
      "    print entries[k]"
     ],
     "language": "python",
     "metadata": {},
     "outputs": [
      {
       "output_type": "stream",
       "stream": "stdout",
       "text": [
        "[{u'split_entry': None, u'title': u'CRYSTAL STRUCTURE OF CELLULAR RETINOIC-ACID-BINDING PROTEINS I AND II IN COMPLEX WITH ALL-TRANS-RETINOIC ACID AND A SYNTHETIC RETINOID', u'release_date': u'19950126', u'experimental_method': [u'X-ray diffraction'], u'experimental_method_class': [u'x-ray'], u'revision_date': u'20090224', u'entry_authors': [u'Bergfors, T.', u'Jones, T.A.', u'Kleywegt, G.J.'], u'deposition_site': None, u'number_of_entities': {u'polypeptide': 1, u'dna': 0, u'ligand': 1, u'dna/rna': 0, u'rna': 0, u'sugar': 0, u'water': 1, u'other': 0}, u'processing_site': None, u'deposition_date': u'19940928', u'assemblies': [{u'assembly_id': u'1', u'form': u'homo', u'preferred': True, u'name': u'monomeric'}]}]\n",
        "[{u'split_entry': None, u'title': u'Spatial structure of Lch-alpha peptide from two-component lantibiotic system Lichenicidin VK21', u'release_date': u'20100721', u'experimental_method': [u'Solution NMR'], u'experimental_method_class': [u'nmr'], u'revision_date': u'20110810', u'entry_authors': [u'Arseniev, A.S.', u'Mineev, K.S.', u'Ovchinnikova, T.V.', u'Shenkarev, Z.O.'], u'deposition_site': u'BMRB', u'number_of_entities': {u'polypeptide': 1, u'dna': 0, u'ligand': 0, u'dna/rna': 0, u'rna': 0, u'sugar': 0, u'water': 0, u'other': 0}, u'processing_site': u'RCSB', u'deposition_date': u'20100205', u'assemblies': [{u'assembly_id': u'1', u'form': u'homo', u'preferred': True, u'name': u'monomeric'}]}]\n"
       ]
      }
     ],
     "prompt_number": 10
    },
    {
     "cell_type": "code",
     "collapsed": false,
     "input": [],
     "language": "python",
     "metadata": {},
     "outputs": []
    }
   ],
   "metadata": {}
  }
 ]
}
