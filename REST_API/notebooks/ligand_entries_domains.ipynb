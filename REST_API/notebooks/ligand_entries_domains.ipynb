{
 "metadata": {
  "name": "",
  "signature": "sha256:d8cdc94684753244221d26ed4c11d5fdec21b1c0dbfbb2b20a710f8bedcf6007"
 },
 "nbformat": 3,
 "nbformat_minor": 0,
 "worksheets": [
  {
   "cells": [
    {
     "cell_type": "heading",
     "level": 1,
     "metadata": {},
     "source": [
      "Compile a dataset of ligand-binding domains"
     ]
    },
    {
     "cell_type": "markdown",
     "metadata": {},
     "source": [
      "<table border=0>\n",
      "    <tr>\n",
      "        <td>\n",
      "            Often we want to see how a ligand binds to a domain and how such binding sites compare across multiple PDB entries.\n",
      "            <br>\n",
      "            <br>\n",
      "            In this example, we will use the PDBe API to :\n",
      "            <ul>\n",
      "                <li>\n",
      "                    find the PDB entries containing retinoic acid (<a href='http://pdbe.org/chem/REA'>REA</a>),\n",
      "                </li>\n",
      "                <li>\n",
      "                    analyze the domain composition of those entries,\n",
      "                </li>\n",
      "                <li>\n",
      "                    find the lipocalin CATH domains which interact with REA,\n",
      "                </li>\n",
      "                <li>\n",
      "                    find a set of chains that contain lipocalin domain and bind to REA too, and\n",
      "                </li>\n",
      "                <li>\n",
      "                    write your own improvements to the demo code.\n",
      "                </li>\n",
      "            </ul>\n",
      "        </td>\n",
      "        <td>\n",
      "             <img src=\"http://www.ebi.ac.uk/pdbe-srv/pdbechem/image/showNew?code=REA&size=200\">\n",
      "        </td>\n",
      "    </tr>\n",
      "</table>\n",
      "\n"
     ]
    },
    {
     "cell_type": "heading",
     "level": 3,
     "metadata": {},
     "source": [
      "Getting started"
     ]
    },
    {
     "cell_type": "markdown",
     "metadata": {},
     "source": [
      "Let us run the [tutorial_utils](tutorial_utils.ipynb) notebook to setup API URL, logger, caller utility, etc. Check out that notebook to setup anything differently."
     ]
    },
    {
     "cell_type": "code",
     "collapsed": false,
     "input": [
      "%run 'tutorial_utils.ipynb'"
     ],
     "language": "python",
     "metadata": {},
     "outputs": [],
     "prompt_number": 48
    },
    {
     "cell_type": "heading",
     "level": 3,
     "metadata": {},
     "source": [
      "Entries containing reinoic acid"
     ]
    },
    {
     "cell_type": "markdown",
     "metadata": {},
     "source": [
      "Let us begin by finding PDB entries that contain retinoic acid (PDB chemical component REA). For this, we will use the API call <code>/pdb/compound/in_pdb.</code>"
     ]
    },
    {
     "cell_type": "code",
     "collapsed": false,
     "input": [
      "chem_comp_id = \"REA\"\n",
      "cc_entries_URL = PDBE_API_URL + \"/pdb/compound/in_pdb/\" + chem_comp_id\n",
      "cc_entries_data = get_PDBe_API_data(cc_entries_URL) # function from tutorial_utils\n",
      "cc_entries = cc_entries_data[chem_comp_id]\n",
      "logging.info(\"There are %d PDB entries containing chemical component %s.\" % (len(cc_entries), chem_comp_id))"
     ],
     "language": "python",
     "metadata": {},
     "outputs": [
      {
       "output_type": "stream",
       "stream": "stdout",
       "text": [
        "LOG|11-Nov-2014 13:37:31|INFO  There are 31 PDB entries containing chemical component REA.\n"
       ]
      }
     ],
     "prompt_number": 49
    },
    {
     "cell_type": "markdown",
     "metadata": {},
     "source": [
      "Hmmm, so 31 PDB entries contain REA.\n",
      "\n",
      "Alternatively, we could have used the PDBe search system too to find these entries. See the search_introduction notebook to know more."
     ]
    },
    {
     "cell_type": "heading",
     "level": 3,
     "metadata": {},
     "source": [
      "Obtaining the domains"
     ]
    },
    {
     "cell_type": "markdown",
     "metadata": {},
     "source": [
      "So far so good. Now let's figure the domain composition of these entries by using the SIFTS mappings call. This call returns many types of mappings, such as UniProt accessions, Pfam families, InterPro, SCOP, CATH, etc. We will make one mapping call for each PDB entry id."
     ]
    },
    {
     "cell_type": "code",
     "collapsed": false,
     "input": [
      "def get_mappings() :\n",
      "    all_mappings = {}\n",
      "    for pdb_id in cc_entries :\n",
      "        mappings_data = get_PDBe_API_data(PDBE_API_URL+\"/mappings/\"+pdb_id)\n",
      "        try :\n",
      "            all_mappings[pdb_id] = mappings_data[pdb_id]\n",
      "            print \".\",\n",
      "        except KeyError :\n",
      "            logging.warn(\"Mappings call failed for entry \" + pdb_id)\n",
      "    print \"\"\n",
      "    logging.info(\"Mappings fetched for %d of %d entries.\" % (len(all_mappings), len(cc_entries)))\n",
      "    return all_mappings\n",
      "\n",
      "mappings = get_mappings()"
     ],
     "language": "python",
     "metadata": {},
     "outputs": [
      {
       "output_type": "stream",
       "stream": "stdout",
       "text": [
        ". "
       ]
      },
      {
       "output_type": "stream",
       "stream": "stdout",
       "text": [
        ". "
       ]
      },
      {
       "output_type": "stream",
       "stream": "stdout",
       "text": [
        ". "
       ]
      },
      {
       "output_type": "stream",
       "stream": "stdout",
       "text": [
        ". "
       ]
      },
      {
       "output_type": "stream",
       "stream": "stdout",
       "text": [
        ". "
       ]
      },
      {
       "output_type": "stream",
       "stream": "stdout",
       "text": [
        ". "
       ]
      },
      {
       "output_type": "stream",
       "stream": "stdout",
       "text": [
        ". "
       ]
      },
      {
       "output_type": "stream",
       "stream": "stdout",
       "text": [
        ". "
       ]
      },
      {
       "output_type": "stream",
       "stream": "stdout",
       "text": [
        ". "
       ]
      },
      {
       "output_type": "stream",
       "stream": "stdout",
       "text": [
        ". "
       ]
      },
      {
       "output_type": "stream",
       "stream": "stdout",
       "text": [
        ". "
       ]
      },
      {
       "output_type": "stream",
       "stream": "stdout",
       "text": [
        ". "
       ]
      },
      {
       "output_type": "stream",
       "stream": "stdout",
       "text": [
        ". "
       ]
      },
      {
       "output_type": "stream",
       "stream": "stdout",
       "text": [
        ". "
       ]
      },
      {
       "output_type": "stream",
       "stream": "stdout",
       "text": [
        ". "
       ]
      },
      {
       "output_type": "stream",
       "stream": "stdout",
       "text": [
        ". "
       ]
      },
      {
       "output_type": "stream",
       "stream": "stdout",
       "text": [
        ". "
       ]
      },
      {
       "output_type": "stream",
       "stream": "stdout",
       "text": [
        ". "
       ]
      },
      {
       "output_type": "stream",
       "stream": "stdout",
       "text": [
        ". "
       ]
      },
      {
       "output_type": "stream",
       "stream": "stdout",
       "text": [
        ". "
       ]
      },
      {
       "output_type": "stream",
       "stream": "stdout",
       "text": [
        ". "
       ]
      },
      {
       "output_type": "stream",
       "stream": "stdout",
       "text": [
        ". "
       ]
      },
      {
       "output_type": "stream",
       "stream": "stdout",
       "text": [
        ". "
       ]
      },
      {
       "output_type": "stream",
       "stream": "stdout",
       "text": [
        ". "
       ]
      },
      {
       "output_type": "stream",
       "stream": "stdout",
       "text": [
        ". "
       ]
      },
      {
       "output_type": "stream",
       "stream": "stdout",
       "text": [
        ". "
       ]
      },
      {
       "output_type": "stream",
       "stream": "stdout",
       "text": [
        ". "
       ]
      },
      {
       "output_type": "stream",
       "stream": "stdout",
       "text": [
        ". "
       ]
      },
      {
       "output_type": "stream",
       "stream": "stdout",
       "text": [
        ". "
       ]
      },
      {
       "output_type": "stream",
       "stream": "stdout",
       "text": [
        ". "
       ]
      },
      {
       "output_type": "stream",
       "stream": "stdout",
       "text": [
        ". \n",
        "LOG|11-Nov-2014 13:37:39|INFO  Mappings fetched for 31 of 31 entries.\n"
       ]
      }
     ],
     "prompt_number": 50
    },
    {
     "cell_type": "markdown",
     "metadata": {},
     "source": [
      "Which mappings are available? Let us count."
     ]
    },
    {
     "cell_type": "code",
     "collapsed": false,
     "input": [
      "import collections\n",
      "mapping_counts = collections.defaultdict(lambda:0)\n",
      "\n",
      "for pdb_id in mappings :\n",
      "    for mapping_type, mappings_info in mappings[pdb_id].items() :\n",
      "        if len(mappings_info) > 0 :\n",
      "            mapping_counts[mapping_type] += 1\n",
      "\n",
      "for mt, mc in mapping_counts.items() :\n",
      "    logging.info(\"%3d entries have %s mappings.\" % (mc, mt))"
     ],
     "language": "python",
     "metadata": {},
     "outputs": [
      {
       "output_type": "stream",
       "stream": "stdout",
       "text": [
        "LOG|11-Nov-2014 13:37:43|INFO   31 entries have Pfam mappings.\n"
       ]
      },
      {
       "output_type": "stream",
       "stream": "stdout",
       "text": [
        "LOG|11-Nov-2014 13:37:43|INFO   31 entries have InterPro mappings.\n"
       ]
      },
      {
       "output_type": "stream",
       "stream": "stdout",
       "text": [
        "LOG|11-Nov-2014 13:37:43|INFO   26 entries have CATH mappings.\n"
       ]
      },
      {
       "output_type": "stream",
       "stream": "stdout",
       "text": [
        "LOG|11-Nov-2014 13:37:43|INFO    4 entries have EC mappings.\n"
       ]
      },
      {
       "output_type": "stream",
       "stream": "stdout",
       "text": [
        "LOG|11-Nov-2014 13:37:43|INFO   31 entries have UniProt mappings.\n"
       ]
      },
      {
       "output_type": "stream",
       "stream": "stdout",
       "text": [
        "LOG|11-Nov-2014 13:37:43|INFO   17 entries have SCOP mappings.\n"
       ]
      },
      {
       "output_type": "stream",
       "stream": "stdout",
       "text": [
        "LOG|11-Nov-2014 13:37:43|INFO   31 entries have GO mappings.\n"
       ]
      }
     ],
     "prompt_number": 51
    },
    {
     "cell_type": "markdown",
     "metadata": {},
     "source": [
      "Let us focus on CATH superfamilies and count how many times each superfamily is mapped onto entries containing the compound of our interest."
     ]
    },
    {
     "cell_type": "code",
     "collapsed": false,
     "input": [
      "dom_type = \"CATH\"\n",
      "dom_counts = collections.defaultdict(lambda:0)\n",
      "dom_family_name = {}\n",
      "\n",
      "for pdb_id in mappings :\n",
      "    if not mappings[pdb_id].has_key(dom_type) :\n",
      "        continue\n",
      "    else :\n",
      "        for dom_id, mranges in mappings[pdb_id][dom_type].items() :\n",
      "            dom_family_name[dom_id] = mappings[pdb_id][dom_type][dom_id][\"homology\"]\n",
      "            dom_counts[dom_id] += 1\n",
      "\n",
      "for dom_id, frequency in dom_counts.items() :\n",
      "    logging.info(\"%2d entries contain CATH superfamily %11s (%s).\" % (frequency, dom_id, dom_family_name[dom_id]))"
     ],
     "language": "python",
     "metadata": {},
     "outputs": [
      {
       "output_type": "stream",
       "stream": "stdout",
       "text": [
        "LOG|11-Nov-2014 13:39:14|INFO   9 entries contain CATH superfamily 2.40.128.20 (Lipocalin).\n"
       ]
      },
      {
       "output_type": "stream",
       "stream": "stdout",
       "text": [
        "LOG|11-Nov-2014 13:39:14|INFO   2 entries contain CATH superfamily 2.60.40.180 (Immunoglobulin-like).\n"
       ]
      },
      {
       "output_type": "stream",
       "stream": "stdout",
       "text": [
        "LOG|11-Nov-2014 13:39:14|INFO   3 entries contain CATH superfamily  3.30.50.10 (Erythroid Transcription Factor GATA-1, subunit A).\n"
       ]
      },
      {
       "output_type": "stream",
       "stream": "stdout",
       "text": [
        "LOG|11-Nov-2014 13:39:14|INFO  15 entries contain CATH superfamily 1.10.565.10 (Retinoid X Receptor).\n"
       ]
      },
      {
       "output_type": "stream",
       "stream": "stdout",
       "text": [
        "LOG|11-Nov-2014 13:39:14|INFO   1 entries contain CATH superfamily 1.10.630.10 (Cytochrome p450).\n"
       ]
      }
     ],
     "prompt_number": 54
    },
    {
     "cell_type": "markdown",
     "metadata": {},
     "source": [
      "We see there are 9 entries which contain CATH domain called Lipocalin (2.40.128.20).\n",
      "\n",
      "Let us now make a reverse associative array from PDB chains to superfamilies, and note that a chain can contain multiple CATH domains."
     ]
    },
    {
     "cell_type": "code",
     "collapsed": false,
     "input": [
      "chain_to_domain = collections.defaultdict(lambda:[])\n",
      "\n",
      "for pdb_id in mappings :\n",
      "    if mappings[pdb_id].has_key(dom_type) :\n",
      "        for dom_id, mapping_info in mappings[pdb_id][dom_type].items() :\n",
      "            for arange in mapping_info[\"mappings\"] :\n",
      "                chain_to_domain[(pdb_id,arange[\"chain_id\"])].append(dom_id)\n",
      "\n",
      "for (pdb_id,chain_id), dom_ids in chain_to_domain.items() [0:5] :\n",
      "    logging.info(\"PDB id %s chain %s contain domains %s\" % (pdb_id, chain_id, \", \".join(dom_ids)))"
     ],
     "language": "python",
     "metadata": {},
     "outputs": [
      {
       "output_type": "stream",
       "stream": "stdout",
       "text": [
        "LOG|11-Nov-2014 13:39:29|INFO  PDB id 3fal chain D contain domains 1.10.565.10\n"
       ]
      },
      {
       "output_type": "stream",
       "stream": "stdout",
       "text": [
        "LOG|11-Nov-2014 13:39:29|INFO  PDB id 3fc6 chain B contain domains 1.10.565.10\n"
       ]
      },
      {
       "output_type": "stream",
       "stream": "stdout",
       "text": [
        "LOG|11-Nov-2014 13:39:29|INFO  PDB id 3dzy chain A contain domains 3.30.50.10, 1.10.565.10\n"
       ]
      },
      {
       "output_type": "stream",
       "stream": "stdout",
       "text": [
        "LOG|11-Nov-2014 13:39:29|INFO  PDB id 1xls chain B contain domains 1.10.565.10\n"
       ]
      },
      {
       "output_type": "stream",
       "stream": "stdout",
       "text": [
        "LOG|11-Nov-2014 13:39:29|INFO  PDB id 1xiu chain B contain domains 1.10.565.10\n"
       ]
      }
     ],
     "prompt_number": 55
    },
    {
     "cell_type": "heading",
     "level": 3,
     "metadata": {},
     "source": [
      "Obtaining the binding sites"
     ]
    },
    {
     "cell_type": "markdown",
     "metadata": {},
     "source": [
      "Now let us turn our attention to binding sites information. Let us write a function that will fetch it using binding sites API call."
     ]
    },
    {
     "cell_type": "code",
     "collapsed": false,
     "input": [
      "def get_binding_sites() :\n",
      "    all_sites = collections.defaultdict(lambda:[])\n",
      "    for pdb_id in cc_entries :\n",
      "        api_data = get_PDBe_API_data(PDBE_API_URL+\"/pdb/entry/binding_sites/\"+pdb_id)\n",
      "        for asite in api_data[pdb_id] :\n",
      "            if any((alig[\"chem_comp_id\"] == chem_comp_id for alig in asite[\"ligand_residues\"])) :\n",
      "                all_sites[pdb_id].append(asite)\n",
      "    return all_sites"
     ],
     "language": "python",
     "metadata": {},
     "outputs": [],
     "prompt_number": 56
    },
    {
     "cell_type": "markdown",
     "metadata": {},
     "source": [
      "Ideally we expect there to be at least one binding site for REA defined in each entry. Let us verify that."
     ]
    },
    {
     "cell_type": "code",
     "collapsed": false,
     "input": [
      "binding_sites = get_binding_sites()\n",
      "\n",
      "binding_frequency = collections.defaultdict(lambda:0)\n",
      "\n",
      "for pdb_id, sites_info in binding_sites.items() :\n",
      "    binding_frequency[len(sites_info)] += 1\n",
      "    \n",
      "for num_sites, num_entries in binding_frequency.items() :\n",
      "    logging.info(\"%2d entries have %2d binding sites of %s.\" % (num_entries, num_sites, chem_comp_id))"
     ],
     "language": "python",
     "metadata": {},
     "outputs": [
      {
       "output_type": "stream",
       "stream": "stdout",
       "text": [
        "LOG|11-Nov-2014 13:39:31|INFO  15 entries have  1 binding sites of REA.\n"
       ]
      },
      {
       "output_type": "stream",
       "stream": "stdout",
       "text": [
        "LOG|11-Nov-2014 13:39:31|INFO  12 entries have  2 binding sites of REA.\n"
       ]
      },
      {
       "output_type": "stream",
       "stream": "stdout",
       "text": [
        "LOG|11-Nov-2014 13:39:31|INFO   4 entries have  4 binding sites of REA.\n"
       ]
      }
     ],
     "prompt_number": 57
    },
    {
     "cell_type": "markdown",
     "metadata": {},
     "source": [
      "Let us make a list of chains which bind our favourite compound."
     ]
    },
    {
     "cell_type": "code",
     "collapsed": false,
     "input": [
      "binding_chains = set()\n",
      "for pdb_id, sites_info in binding_sites.items() :\n",
      "    for asite in sites_info :\n",
      "        for res_info in asite[\"site_residues\"] :\n",
      "            binding_chains.add( (pdb_id, res_info[\"chain_id\"]) )\n",
      "\n",
      "logging.info(\"%d PDB chains bind %s, e.g. %s ....\" % ( \\\n",
      "            len(binding_chains), chem_comp_id, \\\n",
      "            \" \".join([bc[0]+\":\"+bc[1] for bc in list(binding_chains)[0:5]]) \\\n",
      "))       "
     ],
     "language": "python",
     "metadata": {},
     "outputs": [
      {
       "output_type": "stream",
       "stream": "stdout",
       "text": [
        "LOG|11-Nov-2014 13:39:34|INFO  55 PDB chains bind REA, e.g. 1n4h:A 4nqa:H 3dzy:A 1xls:B 1xiu:B ....\n"
       ]
      }
     ],
     "prompt_number": 58
    },
    {
     "cell_type": "markdown",
     "metadata": {},
     "source": [
      "Now we can find chains common to binding sites and CATH superfamilies to find instances of domains with binding ligands."
     ]
    },
    {
     "cell_type": "code",
     "collapsed": false,
     "input": [
      "domain_of_choice = \"2.40.128.20\"\n",
      "for pdb_chain in binding_chains :\n",
      "    if chain_to_domain.has_key(pdb_chain) and domain_of_choice in chain_to_domain[pdb_chain] :\n",
      "        logging.info(\"PDB chain %s:%s binds %s and contains CATH domains %s\" % \\\n",
      "                     (pdb_chain[0], pdb_chain[1], chem_comp_id, \",\".join(chain_to_domain[pdb_chain])))"
     ],
     "language": "python",
     "metadata": {},
     "outputs": [
      {
       "output_type": "stream",
       "stream": "stdout",
       "text": [
        "LOG|11-Nov-2014 13:39:37|INFO  PDB chain 1epb:A binds REA and contains CATH domains 2.40.128.20\n"
       ]
      },
      {
       "output_type": "stream",
       "stream": "stdout",
       "text": [
        "LOG|11-Nov-2014 13:39:37|INFO  PDB chain 1rlb:E binds REA and contains CATH domains 2.40.128.20\n"
       ]
      },
      {
       "output_type": "stream",
       "stream": "stdout",
       "text": [
        "LOG|11-Nov-2014 13:39:37|INFO  PDB chain 2g78:A binds REA and contains CATH domains 2.40.128.20\n"
       ]
      },
      {
       "output_type": "stream",
       "stream": "stdout",
       "text": [
        "LOG|11-Nov-2014 13:39:37|INFO  PDB chain 1cbr:A binds REA and contains CATH domains 2.40.128.20\n"
       ]
      },
      {
       "output_type": "stream",
       "stream": "stdout",
       "text": [
        "LOG|11-Nov-2014 13:39:37|INFO  PDB chain 1gx9:A binds REA and contains CATH domains 2.40.128.20\n"
       ]
      },
      {
       "output_type": "stream",
       "stream": "stdout",
       "text": [
        "LOG|11-Nov-2014 13:39:37|INFO  PDB chain 1cbs:A binds REA and contains CATH domains 2.40.128.20\n"
       ]
      },
      {
       "output_type": "stream",
       "stream": "stdout",
       "text": [
        "LOG|11-Nov-2014 13:39:37|INFO  PDB chain 1rlb:F binds REA and contains CATH domains 2.40.128.20\n"
       ]
      },
      {
       "output_type": "stream",
       "stream": "stdout",
       "text": [
        "LOG|11-Nov-2014 13:39:37|INFO  PDB chain 1fem:A binds REA and contains CATH domains 2.40.128.20\n"
       ]
      },
      {
       "output_type": "stream",
       "stream": "stdout",
       "text": [
        "LOG|11-Nov-2014 13:39:37|INFO  PDB chain 1epb:B binds REA and contains CATH domains 2.40.128.20\n"
       ]
      },
      {
       "output_type": "stream",
       "stream": "stdout",
       "text": [
        "LOG|11-Nov-2014 13:39:37|INFO  PDB chain 1cbr:B binds REA and contains CATH domains 2.40.128.20\n"
       ]
      },
      {
       "output_type": "stream",
       "stream": "stdout",
       "text": [
        "LOG|11-Nov-2014 13:39:37|INFO  PDB chain 2fr3:A binds REA and contains CATH domains 2.40.128.20\n"
       ]
      },
      {
       "output_type": "stream",
       "stream": "stdout",
       "text": [
        "LOG|11-Nov-2014 13:39:37|INFO  PDB chain 3cwk:A binds REA and contains CATH domains 2.40.128.20\n"
       ]
      }
     ],
     "prompt_number": 59
    },
    {
     "cell_type": "markdown",
     "metadata": {},
     "source": [
      "Hurray! we now have a dataset of chains we can study to understand the binding between retinoic acid and the CATH domain!"
     ]
    },
    {
     "cell_type": "heading",
     "level": 3,
     "metadata": {},
     "source": [
      "Your turn!"
     ]
    },
    {
     "cell_type": "markdown",
     "metadata": {},
     "source": [
      "There are many improvement you can readily make to this recipe to obtain a better dataset for your study, such as:\n",
      "<ul>\n",
      "    <li>Use validation information to choose only high quality binding sites. You can use the validation API calls to check gloval quality metrics like resolution, Rfree, or more local parameters like residue-wise geometry outliers and electron density fit.</li>\n",
      "    <li>Make a non-redundant set of binding sites by choosing only one from each PDB id. Use your favourite sequence alignment software to remove chains with very similar sequences.</li>\n",
      "    <li>Choose chains where there is sufficient overlap between binding site residues and domain-mapped residues.</li>\n",
      "</ul>"
     ]
    }
   ],
   "metadata": {}
  }
 ]
}