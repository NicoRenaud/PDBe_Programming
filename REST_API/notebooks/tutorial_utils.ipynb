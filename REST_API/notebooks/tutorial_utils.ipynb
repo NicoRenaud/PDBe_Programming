{
 "metadata": {
  "name": "",
  "signature": "sha256:edb7573496142fa1568b286b58fa094bf7bba760b23353c43d3063e253e852f4"
 },
 "nbformat": 3,
 "nbformat_minor": 0,
 "worksheets": [
  {
   "cells": [
    {
     "cell_type": "heading",
     "level": 1,
     "metadata": {},
     "source": [
      "Tutorial Utilities"
     ]
    },
    {
     "cell_type": "markdown",
     "metadata": {},
     "source": [
      "This notebook is a collection of useful functions used in other notebooks."
     ]
    },
    {
     "cell_type": "heading",
     "level": 3,
     "metadata": {},
     "source": [
      "Which API URL?"
     ]
    },
    {
     "cell_type": "markdown",
     "metadata": {},
     "source": [
      "You should generally use the production URL of the API."
     ]
    },
    {
     "cell_type": "code",
     "collapsed": false,
     "input": [
      "PDBE_API_URL = \"http://www.ebi.ac.uk/pdbe/api\""
     ],
     "language": "python",
     "metadata": {},
     "outputs": [],
     "prompt_number": 1
    },
    {
     "cell_type": "markdown",
     "metadata": {},
     "source": [
      "The API also has a development instance meant for beta testing and pre-release hosting, available at :"
     ]
    },
    {
     "cell_type": "code",
     "collapsed": false,
     "input": [
      "PDBE_API_URL = \"http://www.ebi.ac.uk/pdbe/api\""
     ],
     "language": "python",
     "metadata": {},
     "outputs": [],
     "prompt_number": 8
    },
    {
     "cell_type": "markdown",
     "metadata": {},
     "source": [
      "At the time of writing this notebook (Nov 2014), the API was not released on www. So let us use the wwwdev instance, otherwise just comment out the line above.\n",
      "\n",
      "Browse the API documentation interactively at <code>PDBE_API_URL + \"/doc\"</code>, i.e. http://www.ebi.ac.uk/pdbe/api/doc"
     ]
    },
    {
     "cell_type": "heading",
     "level": 3,
     "metadata": {},
     "source": [
      "Logger setup"
     ]
    },
    {
     "cell_type": "raw",
     "metadata": {},
     "source": [
      "It is a good practice to setup a logger."
     ]
    },
    {
     "cell_type": "code",
     "collapsed": false,
     "input": [
      "import logging, sys\n",
      "\n",
      "# configure the logger\n",
      "# btw, reload is just a hack to make logging work in the notebook, it's usually uncessary\n",
      "reload(logging)\n",
      "logging.basicConfig(\n",
      "    level=logging.DEBUG, stream=sys.stdout,\n",
      "    format='LOG|%(asctime)s|%(levelname)s  %(message)s', datefmt='%d-%b-%Y %H:%M:%S'\n",
      ")"
     ],
     "language": "python",
     "metadata": {},
     "outputs": [],
     "prompt_number": 9
    },
    {
     "cell_type": "heading",
     "level": 3,
     "metadata": {},
     "source": [
      "Function to get API data"
     ]
    },
    {
     "cell_type": "markdown",
     "metadata": {},
     "source": [
      "The API call you made can fail (very rarely) due to a variety of reasons beyond your control, e.g. network, overloading of our http servers, temporary failure of our databases, etc. Hence it is always more robust to try the call, say thrice, before raising an exception, or reporting a bug to the PDBe. Let us write a function for this which will return python object for equivalent to the json returned by the API."
     ]
    },
    {
     "cell_type": "code",
     "collapsed": false,
     "input": [
      "import json, urllib2\n",
      "\n",
      "def get_PDBe_API_data(api_url) :\n",
      "    num_trials = 3\n",
      "    for trial_number in range(num_trials) :\n",
      "        try :\n",
      "            return json.loads(urllib2.urlopen(api_url).read())\n",
      "        except Exception, err :\n",
      "            logging.warn(\"Error fetching PDBe-API data! Trial number %d for call %s\" % (trial_number, api_url))\n",
      "            if trial_number == num_trials-1 :\n",
      "                raise err"
     ],
     "language": "python",
     "metadata": {},
     "outputs": [],
     "prompt_number": 10
    }
   ],
   "metadata": {}
  }
 ]
}
