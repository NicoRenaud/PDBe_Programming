{
 "metadata": {
  "name": "",
  "signature": "sha256:6d22410ed26e3a2836200e1948cdc5d7c2b4b86fc810eb35ca175be5f0fcbdde"
 },
 "nbformat": 3,
 "nbformat_minor": 0,
 "worksheets": [
  {
   "cells": [
    {
     "cell_type": "markdown",
     "metadata": {},
     "source": [
      "# PDBe REST API 101"
     ]
    },
    {
     "cell_type": "code",
     "collapsed": false,
     "input": [
      "import sys\n",
      "\n",
      "PY3 = sys.version > '3'\n",
      "\n",
      "if PY3:\n",
      "    import urllib.request as urllib2\n",
      "else:\n",
      "    import urllib2\n",
      "\n",
      "SERVER_URL = \"https://wwwdev.ebi.ac.uk/pdbe/api\"\n",
      "\n",
      "def make_request(url, data):   \n",
      "    request = urllib2.Request(url)\n",
      "\n",
      "    try:\n",
      "        url_file = urllib2.urlopen(request, data)\n",
      "    except urllib2.HTTPError as e:\n",
      "        if e.code == 404:\n",
      "            print \"[NOTFOUND %d] %s\" % (e.code, url)\n",
      "        else:\n",
      "            print \"[ERROR %d] %s\" % (e.code, url)\n",
      "\n",
      "        return None\n",
      "\n",
      "    return url_file.read().decode()\n",
      "\n",
      "def get_request(url, arg, pretty=True):\n",
      "    full_url = \"%s/%s/%s?pretty=%s\" % (SERVER_URL, url, arg, str(pretty).lower())\n",
      "    \n",
      "    return make_request(full_url, None)\n",
      "\n",
      "def post_request(url, data, pretty=True):\n",
      "    full_url = \"%s/%s/?pretty=%s\" % (SERVER_URL, url, str(pretty).lower())\n",
      "    \n",
      "    if isinstance(data, (list, tuple)):\n",
      "        data = \",\".join(data)\n",
      "    \n",
      "    return make_request(full_url, data.encode())\n"
     ],
     "language": "python",
     "metadata": {},
     "outputs": []
    },
    {
     "cell_type": "code",
     "collapsed": false,
     "input": [
      "summary = \"/pdb/entry/summary\"\n",
      "experiment = \"/pdb/entry/experiment\"\n",
      "sifts = \"/mappings\""
     ],
     "language": "python",
     "metadata": {},
     "outputs": []
    },
    {
     "cell_type": "markdown",
     "metadata": {},
     "source": [
      "We can make GET resquests simply by doing:"
     ]
    },
    {
     "cell_type": "code",
     "collapsed": false,
     "input": [
      "print get_request(summary, \"1cbs\")"
     ],
     "language": "python",
     "metadata": {},
     "outputs": []
    },
    {
     "cell_type": "markdown",
     "metadata": {},
     "source": [
      "POST requests passing a string:"
     ]
    },
    {
     "cell_type": "code",
     "collapsed": false,
     "input": [
      "print post_request(summary, \"1cbs, 1otz, 2ktn\")"
     ],
     "language": "python",
     "metadata": {},
     "outputs": []
    },
    {
     "cell_type": "markdown",
     "metadata": {},
     "source": [
      "A list:"
     ]
    },
    {
     "cell_type": "code",
     "collapsed": false,
     "input": [
      "print post_request(summary, [\"1cbs\", \"1otz\", \"2ktn\"])"
     ],
     "language": "python",
     "metadata": {},
     "outputs": []
    },
    {
     "cell_type": "markdown",
     "metadata": {},
     "source": [
      "Or a tuple:"
     ]
    },
    {
     "cell_type": "code",
     "collapsed": false,
     "input": [
      "print post_request(summary, (\"1cbs\", \"1otz\", \"2ktn\"))"
     ],
     "language": "python",
     "metadata": {},
     "outputs": []
    },
    {
     "cell_type": "code",
     "collapsed": false,
     "input": [],
     "language": "python",
     "metadata": {},
     "outputs": []
    }
   ],
   "metadata": {}
  }
 ]
}