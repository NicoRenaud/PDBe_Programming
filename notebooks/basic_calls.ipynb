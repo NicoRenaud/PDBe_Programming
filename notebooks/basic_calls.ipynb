{
 "metadata": {
  "name": "",
  "signature": "sha256:175e1fe0930369c430b28cca92dc860fb4578e2244966c34d673c84185016938"
 },
 "nbformat": 3,
 "nbformat_minor": 0,
 "worksheets": [
  {
   "cells": [
    {
     "cell_type": "code",
     "collapsed": false,
     "input": [
      "import urllib2\n",
      "\n",
      "SERVER_URL = \"https://wwwdev.ebi.ac.uk/pdbe/api\"\n",
      "REQUEST_URL = SERVER_URL + \"/pdb/entry/summary/%s?pretty=true\"\n",
      "\n",
      "def make_request(url, data=None):\n",
      "    request = urllib2.Request(url)\n",
      "\n",
      "    try:\n",
      "        url_file = urllib2.urlopen(request, data)\n",
      "    except urllib2.HTTPError as e:\n",
      "        if e.code == 404:\n",
      "            print \"[NOTFOUND %d] %s\" % (e.code, url)\n",
      "        else:\n",
      "            print \"[ERROR %d] %s\" % (e.code, url)\n",
      "\n",
      "        return None\n",
      "\n",
      "    return url_file.read()\n"
     ],
     "language": "python",
     "metadata": {},
     "outputs": [],
     "prompt_number": 8
    },
    {
     "cell_type": "code",
     "collapsed": false,
     "input": [
      "print make_request(REQUEST_URL % \"1cbs\")"
     ],
     "language": "python",
     "metadata": {},
     "outputs": [
      {
       "output_type": "stream",
       "stream": "stdout",
       "text": [
        "{\n",
        "    \"1cbs\": [\n",
        "        {\n",
        "            \"experimental_method\": \"X-ray diffraction\",\n",
        "            \"assemblies\": [\n",
        "                {\n",
        "                    \"form\": \"homo\",\n",
        "                    \"name\": \"monomeric\",\n",
        "                    \"assembly_id\": \"1\"\n",
        "                }\n",
        "            ],\n",
        "            \"title\": \"CRYSTAL STRUCTURE OF CELLULAR RETINOIC-ACID-BINDING PROTEINS I AND II IN COMPLEX WITH ALL-TRANS-RETINOIC ACID AND A SYNTHETIC RETINOID\",\n",
        "            \"release_date\": \"19950126\",\n",
        "            \"split_entry\": null,\n",
        "            \"experimental_method_class\": \"x-ray\",\n",
        "            \"revision_date\": \"20090224\",\n",
        "            \"entry_authors\": [\n",
        "                \"Bergfors, T.\",\n",
        "                \"Jones, T.A.\",\n",
        "                \"Kleywegt, G.J.\"\n",
        "            ],\n",
        "            \"deposition_site\": null,\n",
        "            \"number_of_entities\": {\n",
        "                \"polypeptide\": 1,\n",
        "                \"dna\": 0,\n",
        "                \"ligand\": 1,\n",
        "                \"rna\": 0,\n",
        "                \"sugar\": 0,\n",
        "                \"water\": 1\n",
        "            },\n",
        "            \"deposition_date\": \"19940928\",\n",
        "            \"processing_site\": null\n",
        "        }\n",
        "    ]\n",
        "}\n"
       ]
      }
     ],
     "prompt_number": 9
    },
    {
     "cell_type": "code",
     "collapsed": false,
     "input": [],
     "language": "python",
     "metadata": {},
     "outputs": []
    }
   ],
   "metadata": {}
  }
 ]
}