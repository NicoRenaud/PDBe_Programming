{
 "metadata": {
  "signature": "sha256:b3753e02b9ac5749ea6ce8f6e56b4ed7274f319b62dcb6db68bf0719e18fd39d"
 },
 "nbformat": 3,
 "nbformat_minor": 0,
 "worksheets": [
  {
   "cells": [
    {
     "cell_type": "heading",
     "level": 1,
     "metadata": {},
     "source": [
      "Search with facetting and grouping"
     ]
    },
    {
     "cell_type": "heading",
     "level": 2,
     "metadata": {},
     "source": [
      "Introduction"
     ]
    },
    {
     "cell_type": "markdown",
     "metadata": {},
     "source": [
      "In [search_introduction](search_introduction.ipynb), we saw how basic selectors can be progressively added to a Solr query to find entries of interest.<br>\n",
      "Now we will see how facetting, grouping and pivoting can be used to find interesting facts about your favourite protein."
     ]
    },
    {
     "cell_type": "heading",
     "level": 2,
     "metadata": {},
     "source": [
      "Getting started"
     ]
    },
    {
     "cell_type": "markdown",
     "metadata": {},
     "source": [
      "Let us setup logger and create mysolr instance for the Solr core."
     ]
    },
    {
     "cell_type": "code",
     "collapsed": false,
     "input": [
      "from mysolr import Solr\n",
      "PDBE_SOLR_URL = \"http://wwwdev.ebi.ac.uk/pdbe/search/pdb\"\n",
      "solr = Solr(PDBE_SOLR_URL)\n",
      "\n",
      "UNLIMITED_ROWS = 10000000 # necessary because default in mysolr is mere 10\n",
      "\n",
      "import logging, sys\n",
      "reload(logging) # reload is just a hack to make logging work in the notebook, it's usually unnecessary\n",
      "logging.basicConfig( level=logging.INFO, stream=sys.stdout,\n",
      "        format='LOG|%(asctime)s|%(levelname)s  %(message)s', datefmt='%d-%b-%Y %H:%M:%S' )\n",
      "logging.getLogger(\"requests\").setLevel(logging.WARNING)\n",
      "\n",
      "def join_with_AND(selectors) :\n",
      "    return \" AND \".join(\n",
      "        [\"%s:%s\" % (k,v) for k,v in selectors]\n",
      "    )"
     ],
     "language": "python",
     "metadata": {},
     "outputs": [],
     "prompt_number": 17
    },
    {
     "cell_type": "heading",
     "level": 2,
     "metadata": {},
     "source": [
      "Find your protein"
     ]
    },
    {
     "cell_type": "markdown",
     "metadata": {},
     "source": [
      "Identifying previous instances of your protein in the PDB is not an easy task because molecule names given by depositors can differ slightly.\n",
      "The SIFTS project assigns UniProt cross-references to proteins in PDB entries and names them consistently.\n",
      "The following function searches and facets on UniProt name to find proteins of our interest.\n",
      "Note how we are using facet options to identify all distinct values of molecule_name."
     ]
    },
    {
     "cell_type": "code",
     "collapsed": false,
     "input": [
      "def molecule_name_facet_search(selectors) :\n",
      "    response = solr.search(**{\n",
      "        \"rows\" : UNLIMITED_ROWS, \"fl\" : \"pdb_id, entity_id\", \"q\" : join_with_AND(selectors),\n",
      "        \"facet\" : \"true\", \"facet.limit\" : UNLIMITED_ROWS, \"facet.mincount\" : 1,\n",
      "        \"facet.field\" : \"molecule_name\",\n",
      "    })\n",
      "    num_mols = len(response.documents)\n",
      "    mol_name_counts = response.facets['facet_fields']['molecule_name']\n",
      "    logging.info(\"%d molecules found with %d distinct molecule_names.\" % (num_mols, len(mol_name_counts.keys())))\n",
      "    for mol_name, nmol in mol_name_counts.items() :\n",
      "        logging.info(\"%3d molecules are named as %s\" % (nmol, mol_name))"
     ],
     "language": "python",
     "metadata": {},
     "outputs": [],
     "prompt_number": 21
    },
    {
     "cell_type": "markdown",
     "metadata": {},
     "source": [
      "Let us assume we are interested in carbonic anhydrases. We write the protein name as a regular expression allowing for case changes on start of word."
     ]
    },
    {
     "cell_type": "code",
     "collapsed": false,
     "input": [
      "molecule_name_facet_search([\n",
      "    (    'molecule_name'  ,  '/.*[Cc]arbonic.*[aA]nhydrase.*/'),\n",
      "])"
     ],
     "language": "python",
     "metadata": {},
     "outputs": [
      {
       "output_type": "stream",
       "stream": "stdout",
       "text": [
        "LOG|20-Nov-2014 18:09:48|INFO  599 molecules found with 20 distinct molecule_names.\n"
       ]
      },
      {
       "output_type": "stream",
       "stream": "stdout",
       "text": [
        "LOG|20-Nov-2014 18:09:48|INFO  505 molecules are named as Carbonic anhydrase 2\n"
       ]
      },
      {
       "output_type": "stream",
       "stream": "stdout",
       "text": [
        "LOG|20-Nov-2014 18:09:48|INFO   26 molecules are named as Carbonic anhydrase\n"
       ]
      },
      {
       "output_type": "stream",
       "stream": "stdout",
       "text": [
        "LOG|20-Nov-2014 18:09:48|INFO   20 molecules are named as Carbonic anhydrase 1\n"
       ]
      },
      {
       "output_type": "stream",
       "stream": "stdout",
       "text": [
        "LOG|20-Nov-2014 18:09:48|INFO    6 molecules are named as Cadmium-specific carbonic anhydrase\n"
       ]
      },
      {
       "output_type": "stream",
       "stream": "stdout",
       "text": [
        "LOG|20-Nov-2014 18:09:48|INFO    6 molecules are named as Carbonic anhydrase 13\n"
       ]
      },
      {
       "output_type": "stream",
       "stream": "stdout",
       "text": [
        "LOG|20-Nov-2014 18:09:48|INFO    6 molecules are named as Carbonic anhydrase 3\n"
       ]
      },
      {
       "output_type": "stream",
       "stream": "stdout",
       "text": [
        "LOG|20-Nov-2014 18:09:48|INFO    6 molecules are named as Carbonic anhydrase 4\n"
       ]
      },
      {
       "output_type": "stream",
       "stream": "stdout",
       "text": [
        "LOG|20-Nov-2014 18:09:48|INFO    5 molecules are named as Carbonic anhydrase 12\n"
       ]
      },
      {
       "output_type": "stream",
       "stream": "stdout",
       "text": [
        "LOG|20-Nov-2014 18:09:48|INFO    4 molecules are named as Carbonic anhydrase 5A, mitochondrial\n"
       ]
      },
      {
       "output_type": "stream",
       "stream": "stdout",
       "text": [
        "LOG|20-Nov-2014 18:09:48|INFO    3 molecules are named as Carbonic anhydrase 14\n"
       ]
      },
      {
       "output_type": "stream",
       "stream": "stdout",
       "text": [
        "LOG|20-Nov-2014 18:09:48|INFO    2 molecules are named as Carbonic anhydrase 7\n"
       ]
      },
      {
       "output_type": "stream",
       "stream": "stdout",
       "text": [
        "LOG|20-Nov-2014 18:09:48|INFO    2 molecules are named as Carbonic anhydrase 9\n"
       ]
      },
      {
       "output_type": "stream",
       "stream": "stdout",
       "text": [
        "LOG|20-Nov-2014 18:09:48|INFO    1 molecules are named as Beta-carbonic anhydrase 1\n"
       ]
      },
      {
       "output_type": "stream",
       "stream": "stdout",
       "text": [
        "LOG|20-Nov-2014 18:09:48|INFO    1 molecules are named as Carbonic anhydrase 6\n"
       ]
      },
      {
       "output_type": "stream",
       "stream": "stdout",
       "text": [
        "LOG|20-Nov-2014 18:09:48|INFO    1 molecules are named as Carbonic anhydrase, 25 kDa isoform\n"
       ]
      },
      {
       "output_type": "stream",
       "stream": "stdout",
       "text": [
        "LOG|20-Nov-2014 18:09:48|INFO    1 molecules are named as Carbonic anhydrase-related protein\n"
       ]
      },
      {
       "output_type": "stream",
       "stream": "stdout",
       "text": [
        "LOG|20-Nov-2014 18:09:48|INFO    1 molecules are named as Halotolerant alpha-type carbonic anhydrase (dCA II)\n"
       ]
      },
      {
       "output_type": "stream",
       "stream": "stdout",
       "text": [
        "LOG|20-Nov-2014 18:09:48|INFO    1 molecules are named as Inhibitor of carbonic anhydrase\n"
       ]
      },
      {
       "output_type": "stream",
       "stream": "stdout",
       "text": [
        "LOG|20-Nov-2014 18:09:48|INFO    1 molecules are named as Putative carbonic anhydrase\n"
       ]
      },
      {
       "output_type": "stream",
       "stream": "stdout",
       "text": [
        "LOG|20-Nov-2014 18:09:48|INFO    1 molecules are named as carbonic anhydrase\n"
       ]
      }
     ],
     "prompt_number": 22
    },
    {
     "cell_type": "markdown",
     "metadata": {},
     "source": [
      "Note that there are some unintended hits - one putative and another inhibitor. Let us filter those out."
     ]
    },
    {
     "cell_type": "code",
     "collapsed": false,
     "input": [
      "selectors = [\n",
      "    (    'molecule_name'  ,  '/.*[Cc]arbonic.*[aA]nhydrase.*/'),\n",
      "    ('NOT molecule_name'  ,  '(/.*Putative.*/ OR /.*Inhibitor.*/)'),\n",
      "]\n",
      "molecule_name_facet_search(selectors)"
     ],
     "language": "python",
     "metadata": {},
     "outputs": [
      {
       "output_type": "stream",
       "stream": "stdout",
       "text": [
        "LOG|20-Nov-2014 18:09:52|INFO  597 molecules found with 18 distinct molecule_names.\n"
       ]
      },
      {
       "output_type": "stream",
       "stream": "stdout",
       "text": [
        "LOG|20-Nov-2014 18:09:52|INFO  505 molecules are named as Carbonic anhydrase 2\n"
       ]
      },
      {
       "output_type": "stream",
       "stream": "stdout",
       "text": [
        "LOG|20-Nov-2014 18:09:52|INFO   26 molecules are named as Carbonic anhydrase\n"
       ]
      },
      {
       "output_type": "stream",
       "stream": "stdout",
       "text": [
        "LOG|20-Nov-2014 18:09:52|INFO   20 molecules are named as Carbonic anhydrase 1\n"
       ]
      },
      {
       "output_type": "stream",
       "stream": "stdout",
       "text": [
        "LOG|20-Nov-2014 18:09:52|INFO    6 molecules are named as Cadmium-specific carbonic anhydrase\n"
       ]
      },
      {
       "output_type": "stream",
       "stream": "stdout",
       "text": [
        "LOG|20-Nov-2014 18:09:52|INFO    6 molecules are named as Carbonic anhydrase 13\n"
       ]
      },
      {
       "output_type": "stream",
       "stream": "stdout",
       "text": [
        "LOG|20-Nov-2014 18:09:52|INFO    6 molecules are named as Carbonic anhydrase 3\n"
       ]
      },
      {
       "output_type": "stream",
       "stream": "stdout",
       "text": [
        "LOG|20-Nov-2014 18:09:52|INFO    6 molecules are named as Carbonic anhydrase 4\n"
       ]
      },
      {
       "output_type": "stream",
       "stream": "stdout",
       "text": [
        "LOG|20-Nov-2014 18:09:52|INFO    5 molecules are named as Carbonic anhydrase 12\n"
       ]
      },
      {
       "output_type": "stream",
       "stream": "stdout",
       "text": [
        "LOG|20-Nov-2014 18:09:52|INFO    4 molecules are named as Carbonic anhydrase 5A, mitochondrial\n"
       ]
      },
      {
       "output_type": "stream",
       "stream": "stdout",
       "text": [
        "LOG|20-Nov-2014 18:09:52|INFO    3 molecules are named as Carbonic anhydrase 14\n"
       ]
      },
      {
       "output_type": "stream",
       "stream": "stdout",
       "text": [
        "LOG|20-Nov-2014 18:09:52|INFO    2 molecules are named as Carbonic anhydrase 7\n"
       ]
      },
      {
       "output_type": "stream",
       "stream": "stdout",
       "text": [
        "LOG|20-Nov-2014 18:09:52|INFO    2 molecules are named as Carbonic anhydrase 9\n"
       ]
      },
      {
       "output_type": "stream",
       "stream": "stdout",
       "text": [
        "LOG|20-Nov-2014 18:09:52|INFO    1 molecules are named as Beta-carbonic anhydrase 1\n"
       ]
      },
      {
       "output_type": "stream",
       "stream": "stdout",
       "text": [
        "LOG|20-Nov-2014 18:09:52|INFO    1 molecules are named as Carbonic anhydrase 6\n"
       ]
      },
      {
       "output_type": "stream",
       "stream": "stdout",
       "text": [
        "LOG|20-Nov-2014 18:09:52|INFO    1 molecules are named as Carbonic anhydrase, 25 kDa isoform\n"
       ]
      },
      {
       "output_type": "stream",
       "stream": "stdout",
       "text": [
        "LOG|20-Nov-2014 18:09:52|INFO    1 molecules are named as Carbonic anhydrase-related protein\n"
       ]
      },
      {
       "output_type": "stream",
       "stream": "stdout",
       "text": [
        "LOG|20-Nov-2014 18:09:52|INFO    1 molecules are named as Halotolerant alpha-type carbonic anhydrase (dCA II)\n"
       ]
      },
      {
       "output_type": "stream",
       "stream": "stdout",
       "text": [
        "LOG|20-Nov-2014 18:09:52|INFO    1 molecules are named as carbonic anhydrase\n"
       ]
      }
     ],
     "prompt_number": 23
    },
    {
     "cell_type": "markdown",
     "metadata": {},
     "source": [
      "We can also sharpen our search considerably by using annotations like GO, SCOP etc. But the filters should strike a balance in removing spurious hits and keeping genuine ones.\n",
      "Often optimal filters are found through multiple trials."
     ]
    },
    {
     "cell_type": "heading",
     "level": 2,
     "metadata": {},
     "source": [
      "Count entries by experiment type"
     ]
    },
    {
     "cell_type": "markdown",
     "metadata": {},
     "source": [
      "Now let us see a summary of experiment types that have been used to solve carbonic anhydrases.\n",
      "Since experiment is a property entry, and not molecules within it, we need to group on pdb_id and facet in a group-sensitive way so that the counts we get are for entries."
     ]
    },
    {
     "cell_type": "code",
     "collapsed": false,
     "input": [
      "response = solr.search(**{\n",
      "    \"rows\" : UNLIMITED_ROWS, \"fl\" : \"pdb_id, entity_id\",\n",
      "    \"q\" : join_with_AND(selectors),\n",
      "    \"facet\" : \"true\", \"facet.limit\" : UNLIMITED_ROWS, \"facet.mincount\" : 1,\n",
      "    \"facet.field\" : \"experimental_method\",\n",
      "    \"group\" : \"true\", \"group.facet\" : \"true\",\n",
      "    \"group.field\" : \"pdb_id\",\n",
      "})\n",
      "\n",
      "expt_counts = response.facets['facet_fields']['experimental_method']\n",
      "logging.info(\"There are %d experimental methods with this protein's structure has been studied.\" % len(expt_counts))\n",
      "for expt, count in expt_counts.items() :\n",
      "    logging.info(\"%s : %d\" % (expt,count))"
     ],
     "language": "python",
     "metadata": {},
     "outputs": [
      {
       "output_type": "stream",
       "stream": "stdout",
       "text": [
        "LOG|20-Nov-2014 18:09:56|INFO  There are 3 experimental methods with this protein's structure has been studied.\n"
       ]
      },
      {
       "output_type": "stream",
       "stream": "stdout",
       "text": [
        "LOG|20-Nov-2014 18:09:56|INFO  X-ray diffraction : 595\n"
       ]
      },
      {
       "output_type": "stream",
       "stream": "stdout",
       "text": [
        "LOG|20-Nov-2014 18:09:56|INFO  Neutron Diffraction : 3\n"
       ]
      },
      {
       "output_type": "stream",
       "stream": "stdout",
       "text": [
        "LOG|20-Nov-2014 18:09:56|INFO  Hybrid : 1\n"
       ]
      }
     ],
     "prompt_number": 24
    },
    {
     "cell_type": "heading",
     "level": 2,
     "metadata": {},
     "source": [
      "Count entries by year of deposition"
     ]
    },
    {
     "cell_type": "markdown",
     "metadata": {},
     "source": [
      "Let us now facet on year of deposition and see the years in which an entry was deposited for carbonic anhydrases."
     ]
    },
    {
     "cell_type": "code",
     "collapsed": false,
     "input": [
      "response = solr.search(**{\n",
      "    \"rows\" : UNLIMITED_ROWS, \"fl\" : \"pdb_id, entity_id\",\n",
      "    \"q\" : join_with_AND(selectors),\n",
      "    \"facet\" : \"true\", \"facet.limit\" : UNLIMITED_ROWS, \"facet.mincount\" : 1,\n",
      "    \"facet.field\" : \"deposition_year\",\n",
      "    \"group\" : \"true\", \"group.facet\" : \"true\",\n",
      "    \"group.field\" : \"pdb_id\",\n",
      "})\n",
      "year_counts = response.facets['facet_fields']['deposition_year']\n",
      "logging.info(\"There are %d years in which this protein's structure has been studied.\" % len(year_counts))\n",
      "for year in sorted(year_counts.keys(), key=lambda x : int(x)) :\n",
      "    logging.info(\"%s : %d\" % (year,year_counts[year]))"
     ],
     "language": "python",
     "metadata": {},
     "outputs": [
      {
       "output_type": "stream",
       "stream": "stdout",
       "text": [
        "LOG|20-Nov-2014 18:13:25|INFO  There are 26 years in which this protein's structure has been studied.\n"
       ]
      },
      {
       "output_type": "stream",
       "stream": "stdout",
       "text": [
        "LOG|20-Nov-2014 18:13:25|INFO  1983 : 1\n"
       ]
      },
      {
       "output_type": "stream",
       "stream": "stdout",
       "text": [
        "LOG|20-Nov-2014 18:13:25|INFO  1989 : 3\n"
       ]
      },
      {
       "output_type": "stream",
       "stream": "stdout",
       "text": [
        "LOG|20-Nov-2014 18:13:25|INFO  1991 : 10\n"
       ]
      },
      {
       "output_type": "stream",
       "stream": "stdout",
       "text": [
        "LOG|20-Nov-2014 18:13:25|INFO  1992 : 22\n"
       ]
      },
      {
       "output_type": "stream",
       "stream": "stdout",
       "text": [
        "LOG|20-Nov-2014 18:13:25|INFO  1993 : 23\n"
       ]
      },
      {
       "output_type": "stream",
       "stream": "stdout",
       "text": [
        "LOG|20-Nov-2014 18:13:25|INFO  1994 : 15\n"
       ]
      },
      {
       "output_type": "stream",
       "stream": "stdout",
       "text": [
        "LOG|20-Nov-2014 18:13:25|INFO  1995 : 10\n"
       ]
      },
      {
       "output_type": "stream",
       "stream": "stdout",
       "text": [
        "LOG|20-Nov-2014 18:13:25|INFO  1996 : 16\n"
       ]
      },
      {
       "output_type": "stream",
       "stream": "stdout",
       "text": [
        "LOG|20-Nov-2014 18:13:25|INFO  1997 : 6\n"
       ]
      },
      {
       "output_type": "stream",
       "stream": "stdout",
       "text": [
        "LOG|20-Nov-2014 18:13:25|INFO  1998 : 16\n"
       ]
      },
      {
       "output_type": "stream",
       "stream": "stdout",
       "text": [
        "LOG|20-Nov-2014 18:13:25|INFO  1999 : 7\n"
       ]
      },
      {
       "output_type": "stream",
       "stream": "stdout",
       "text": [
        "LOG|20-Nov-2014 18:13:25|INFO  2000 : 27\n"
       ]
      },
      {
       "output_type": "stream",
       "stream": "stdout",
       "text": [
        "LOG|20-Nov-2014 18:13:25|INFO  2001 : 22\n"
       ]
      },
      {
       "output_type": "stream",
       "stream": "stdout",
       "text": [
        "LOG|20-Nov-2014 18:13:25|INFO  2002 : 8\n"
       ]
      },
      {
       "output_type": "stream",
       "stream": "stdout",
       "text": [
        "LOG|20-Nov-2014 18:13:25|INFO  2003 : 3\n"
       ]
      },
      {
       "output_type": "stream",
       "stream": "stdout",
       "text": [
        "LOG|20-Nov-2014 18:13:25|INFO  2004 : 19\n"
       ]
      },
      {
       "output_type": "stream",
       "stream": "stdout",
       "text": [
        "LOG|20-Nov-2014 18:13:25|INFO  2005 : 25\n"
       ]
      },
      {
       "output_type": "stream",
       "stream": "stdout",
       "text": [
        "LOG|20-Nov-2014 18:13:25|INFO  2006 : 38\n"
       ]
      },
      {
       "output_type": "stream",
       "stream": "stdout",
       "text": [
        "LOG|20-Nov-2014 18:13:25|INFO  2007 : 20\n"
       ]
      },
      {
       "output_type": "stream",
       "stream": "stdout",
       "text": [
        "LOG|20-Nov-2014 18:13:25|INFO  2008 : 48\n"
       ]
      },
      {
       "output_type": "stream",
       "stream": "stdout",
       "text": [
        "LOG|20-Nov-2014 18:13:25|INFO  2009 : 34\n"
       ]
      },
      {
       "output_type": "stream",
       "stream": "stdout",
       "text": [
        "LOG|20-Nov-2014 18:13:25|INFO  2010 : 73\n"
       ]
      },
      {
       "output_type": "stream",
       "stream": "stdout",
       "text": [
        "LOG|20-Nov-2014 18:13:25|INFO  2011 : 65\n"
       ]
      },
      {
       "output_type": "stream",
       "stream": "stdout",
       "text": [
        "LOG|20-Nov-2014 18:13:25|INFO  2012 : 29\n"
       ]
      },
      {
       "output_type": "stream",
       "stream": "stdout",
       "text": [
        "LOG|20-Nov-2014 18:13:25|INFO  2013 : 51\n"
       ]
      },
      {
       "output_type": "stream",
       "stream": "stdout",
       "text": [
        "LOG|20-Nov-2014 18:13:25|INFO  2014 : 6\n"
       ]
      }
     ],
     "prompt_number": 33
    },
    {
     "cell_type": "markdown",
     "metadata": {},
     "source": [
      "Note that we do not have to facet on one field at a time - we could have facetted on multiple fields individually in the same call - just provide comma-separated fields list."
     ]
    },
    {
     "cell_type": "heading",
     "level": 2,
     "metadata": {},
     "source": [
      "Range-based facets"
     ]
    },
    {
     "cell_type": "markdown",
     "metadata": {},
     "source": [
      "Facets can be defined to be range based, e.g. this is useful for fields like resolution, year, length of crystallographic cell, etc."
     ]
    },
    {
     "cell_type": "code",
     "collapsed": false,
     "input": [
      "response = solr.search(**{\n",
      "    \"rows\" : UNLIMITED_ROWS, \"fl\" : \"pdb_id, entity_id\",\n",
      "    \"q\" : join_with_AND(selectors),\n",
      "    \"facet\" : \"true\", \"facet.limit\" : UNLIMITED_ROWS, \"facet.mincount\" : 1,\n",
      "    \"facet.field\" : \"resolution\",\n",
      "    \"facet.range\" : \"resolution\",\n",
      "    \"f.resolution.facet.range.start\" : \"0.0\",\n",
      "    \"f.resolution.facet.range.end\" : \"100\",\n",
      "    \"f.resolution.facet.range.gap\" : \"0.5\",\n",
      "    \"f.resolution.facet.range.other\" : \"between\",\n",
      "    \"f.resolution.facet.range.include\" : \"upper\",\n",
      "    \"group\" : \"true\", \"group.facet\" : \"true\",\n",
      "    \"group.field\" : \"pdb_id\",\n",
      "})\n",
      "\n",
      "import string, collections\n",
      "\n",
      "resol_counts = response.facets['facet_ranges']['resolution']['counts']\n",
      "resol_counts = collections.OrderedDict([(resol_counts[rci], resol_counts[rci+1]) for rci in range(0, len(resol_counts), 2)])\n",
      "logging.info(\"Resolutions at which this protein has been solved is as follows:\")\n",
      "for resol in sorted(resol_counts.keys(), key=lambda x : string.atof(x)) :\n",
      "    logging.info(\"%3d entries in resolution bin starting %s\" % (resol_counts[resol], resol))"
     ],
     "language": "python",
     "metadata": {},
     "outputs": [
      {
       "output_type": "stream",
       "stream": "stdout",
       "text": [
        "LOG|20-Nov-2014 18:12:09|INFO  Resolutions at which this protein has been solved is as follows:\n"
       ]
      },
      {
       "output_type": "stream",
       "stream": "stdout",
       "text": [
        "LOG|20-Nov-2014 18:12:09|INFO    9 entries in resolution bin starting 0.5\n"
       ]
      },
      {
       "output_type": "stream",
       "stream": "stdout",
       "text": [
        "LOG|20-Nov-2014 18:12:09|INFO  119 entries in resolution bin starting 1.0\n"
       ]
      },
      {
       "output_type": "stream",
       "stream": "stdout",
       "text": [
        "LOG|20-Nov-2014 18:12:09|INFO  340 entries in resolution bin starting 1.5\n"
       ]
      },
      {
       "output_type": "stream",
       "stream": "stdout",
       "text": [
        "LOG|20-Nov-2014 18:12:09|INFO  106 entries in resolution bin starting 2.0\n"
       ]
      },
      {
       "output_type": "stream",
       "stream": "stdout",
       "text": [
        "LOG|20-Nov-2014 18:12:09|INFO   22 entries in resolution bin starting 2.5\n"
       ]
      },
      {
       "output_type": "stream",
       "stream": "stdout",
       "text": [
        "LOG|20-Nov-2014 18:12:09|INFO    1 entries in resolution bin starting 3.0\n"
       ]
      }
     ],
     "prompt_number": 32
    },
    {
     "cell_type": "heading",
     "level": 2,
     "metadata": {},
     "source": [
      "Hierarchical facetting"
     ]
    },
    {
     "cell_type": "markdown",
     "metadata": {},
     "source": [
      "Factes can be used hierarchically too, e.g. facet first on resolution, then on year, etc.\n",
      "Unfortunately mysolr does not support this feature, but the good news is that you can write simple python on documents returned and achieve the same effect.\n",
      "e.g. let us see how to find distribution of resolution vs deposition year in this set of entries."
     ]
    },
    {
     "cell_type": "code",
     "collapsed": false,
     "input": [
      "response = solr.search(**{\n",
      "    \"rows\" : UNLIMITED_ROWS,\n",
      "    \"fl\" : \"pdb_id, entity_id, deposition_year, resolution\",\n",
      "    \"q\" : join_with_AND(selectors),\n",
      "})\n",
      "\n",
      "resbin_width = 0.5\n",
      "def resol_bin(resol) :\n",
      "    import decimal\n",
      "    return decimal.Decimal(int(resol/resbin_width) * resbin_width)\n",
      "\n",
      "yearbin_width = 5\n",
      "def depyear_bin(year) :\n",
      "    return (year / yearbin_width) * yearbin_width\n",
      "\n",
      "entry_counted = set()\n",
      "counts = collections.defaultdict( lambda : collections.defaultdict( lambda: 0 ) )\n",
      "for adoc in response.documents :\n",
      "    if adoc['pdb_id'] not in entry_counted :\n",
      "        res_bin = resol_bin(adoc['resolution'])\n",
      "        year_bin = depyear_bin(adoc['deposition_year'])\n",
      "        counts[year_bin][res_bin] += 1\n",
      "\n",
      "import itertools\n",
      "year_bins = sorted(counts.keys())\n",
      "resol_bins = sorted(set( itertools.chain(*[v.keys() for v in counts.values()]) ))\n",
      "\n",
      "logging.info(\"          \" + \"  \".join(\"%.1f-%.1f\" % (rb,float(rb)+resbin_width) for rb in resol_bins))\n",
      "for year in year_bins :\n",
      "    to_print = [\"%d-%d\" % (year,year+yearbin_width)]\n",
      "    total = 0\n",
      "    for resol in resol_bins :\n",
      "        total += counts.get(year, {}).get(resol, 0)\n",
      "    for resol in resol_bins :\n",
      "        count = counts.get(year, {}).get(resol, 0)\n",
      "        to_print.append(count) #, #int(count*100./total),\n",
      "    logging.info(to_print[0] + \"    \".join([\"%5d\" % tp for tp in to_print[1:]]))"
     ],
     "language": "python",
     "metadata": {},
     "outputs": [
      {
       "output_type": "stream",
       "stream": "stdout",
       "text": [
        "LOG|20-Nov-2014 18:10:37|INFO            0.5-1.0  1.0-1.5  1.5-2.0  2.0-2.5  2.5-3.0  3.5-4.0\n"
       ]
      },
      {
       "output_type": "stream",
       "stream": "stdout",
       "text": [
        "LOG|20-Nov-2014 18:10:37|INFO  1980-1985    0        0        0        1        0        0\n"
       ]
      },
      {
       "output_type": "stream",
       "stream": "stdout",
       "text": [
        "LOG|20-Nov-2014 18:10:37|INFO  1985-1990    0        0        1        2        0        0\n"
       ]
      },
      {
       "output_type": "stream",
       "stream": "stdout",
       "text": [
        "LOG|20-Nov-2014 18:10:37|INFO  1990-1995    0        0       28       40        2        0\n"
       ]
      },
      {
       "output_type": "stream",
       "stream": "stdout",
       "text": [
        "LOG|20-Nov-2014 18:10:37|INFO  1995-2000    0        1       16       31        7        0\n"
       ]
      },
      {
       "output_type": "stream",
       "stream": "stdout",
       "text": [
        "LOG|20-Nov-2014 18:10:37|INFO  2000-2005    1        1       41       29        6        1\n"
       ]
      },
      {
       "output_type": "stream",
       "stream": "stdout",
       "text": [
        "LOG|20-Nov-2014 18:10:37|INFO  2005-2010    3       32       86       38        6        0\n"
       ]
      },
      {
       "output_type": "stream",
       "stream": "stdout",
       "text": [
        "LOG|20-Nov-2014 18:10:37|INFO  2010-2015    4       58      131       22        9        0\n"
       ]
      }
     ],
     "prompt_number": 28
    },
    {
     "cell_type": "markdown",
     "metadata": {},
     "source": [
      "Note how higher resolution structures have increased over the years."
     ]
    },
    {
     "cell_type": "heading",
     "level": 2,
     "metadata": {},
     "source": [
      "Your turn!"
     ]
    },
    {
     "cell_type": "markdown",
     "metadata": {},
     "source": [
      "Find entries with protein of your interest, and facet by organism, genus, etc."
     ]
    },
    {
     "cell_type": "code",
     "collapsed": false,
     "input": [],
     "language": "python",
     "metadata": {},
     "outputs": []
    }
   ],
   "metadata": {}
  }
 ]
}