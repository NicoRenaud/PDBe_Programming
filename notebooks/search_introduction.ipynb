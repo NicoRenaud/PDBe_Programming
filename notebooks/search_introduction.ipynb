{
 "metadata": {
  "name": "",
  "signature": "sha256:4754c45a163f00822bc39e7081658cb793a0ac6eac2f9777140f4a54a1f27a25"
 },
 "nbformat": 3,
 "nbformat_minor": 0,
 "worksheets": [
  {
   "cells": [
    {
     "cell_type": "heading",
     "level": 1,
     "metadata": {},
     "source": [
      "Introduction"
     ]
    },
    {
     "cell_type": "markdown",
     "metadata": {},
     "source": [
      "The new search service under development at PDBe is powered by Apache Solr.\n",
      "\n",
      "A pre-release version of user interface is available here: http://wwwdev.ebi.ac.uk/pdbe/entry/search/index\n",
      "\n",
      "For programmatic usage, a Solr instance is available here: http://wwwdev.ebi.ac.uk/pdbe/search/pdb\n",
      "\n",
      "Please note that the search service will be released in 2015 - at that point, it would be better to use URLs similar to those above, but hosted from www instead of wwwdev."
     ]
    },
    {
     "cell_type": "heading",
     "level": 1,
     "metadata": {},
     "source": [
      "Getting started"
     ]
    },
    {
     "cell_type": "markdown",
     "metadata": {},
     "source": [
      "To avoid writing long Solr URLs by hand and having to encode them etc., we will use a Solr client library called mysolr. It is pretty lightweight and easy to install, e.g. I installed it on my Redhat (Enterprise 6.6) machine as follows:\n",
      "\n",
      "easy_install mysolr==0.7\n",
      "\n",
      "There are many such client libraries available for python as well as other languages."
     ]
    },
    {
     "cell_type": "markdown",
     "metadata": {},
     "source": [
      "Let us now make a simple query - let us look for a PDB entry."
     ]
    },
    {
     "cell_type": "code",
     "collapsed": false,
     "input": [
      "PDBE_SOLR_URL = \"http://wwwdev.ebi.ac.uk/pdbe/search/pdb\"                       \n",
      "\n",
      "from mysolr import Solr\n",
      "solr = Solr(PDBE_SOLR_URL)\n",
      "\n",
      "response = solr.search(q='pdb_id:2qk9')\n",
      "\n",
      "documents = response.documents\n",
      "print \"Number of results:\", len(documents)\n",
      "\n",
      "fields = response.documents[0].keys()\n",
      "print \"Number of fields in the documents:\", [len(rd.keys()) for rd in documents]"
     ],
     "language": "python",
     "metadata": {},
     "outputs": [
      {
       "output_type": "stream",
       "stream": "stdout",
       "text": [
        "Number of results: 3\n",
        "Number of fields in the documents: [77, 77, 117]\n"
       ]
      }
     ],
     "prompt_number": 59
    },
    {
     "cell_type": "markdown",
     "metadata": {},
     "source": [
      "There are 3 documents in Solr response for a single PDB id, and each has >75 fields. At this juncture, it is essential to understand what the document represents and contains before proceeding further."
     ]
    },
    {
     "cell_type": "heading",
     "level": 1,
     "metadata": {},
     "source": [
      "Entity document"
     ]
    },
    {
     "cell_type": "markdown",
     "metadata": {},
     "source": [
      "PDBe Solr instance serves documents based on polymeric entities in PDB entries, i.e. each document indexed by Solr represents polymeric molecules of type protein, sugar, DNA, RNA or DNA/RNA hybrid. This is why for entry 2qk9 we get 3 documents in the response, each representing the protein, RNA and DNA molecule in that entry.\n",
      "\n",
      "Fields in PDBe's entity-based Solr document cover a wide range of properties, such as entry's experimental details, details of deposition and primary publication, entity's taxonomy, entry's quality, entity's cross references to UniProt and popular domain databases, biological assembly, etc. They are documented here: http://wwwdev.ebi.ac.uk/pdbe/api/doc/search.html"
     ]
    },
    {
     "cell_type": "heading",
     "level": 1,
     "metadata": {},
     "source": [
      "Solr features"
     ]
    },
    {
     "cell_type": "markdown",
     "metadata": {},
     "source": [
      "It is also useful now to understand a little more about Solr querying. Solr has a rich and complex query syntax, described at http://wiki.apache.org/solr/CommonQueryParameters and elsewhere.\n",
      "\n",
      "The fields of immediate relevance to us in this tutorial are:\n",
      " * q - the query itself. There is a lot of flexibility in describing a query, e.g. fields, wildcards, case-insensitivity, logical operators, ranges, etc.\n",
      " * rows - number of results returned by Solr. Needs to be explicitly set in mysolr because it defaults to 10. Useful if only part of results are desired. \n",
      " * fl - fields returned in each document. This is useful to reduce the size of response.\n",
      "\n",
      "Solr capabilities combined with the wide-ranging description in entity document can help us write really powerful Solr queries to find precisely the entries or polymers of interest.\n",
      "\n"
     ]
    },
    {
     "cell_type": "heading",
     "level": 1,
     "metadata": {},
     "source": [
      "Examples"
     ]
    },
    {
     "cell_type": "markdown",
     "metadata": {},
     "source": [
      "Now let us write a query to find entities containing a Pfam domain called \"Lipocalin\" in X-ray entries of decent resolution (1&Aring; - 2&Aring;)."
     ]
    },
    {
     "cell_type": "code",
     "collapsed": false,
     "input": [
      "def join_with_AND(query_params) :\n",
      "    '''convenience function to create query string with AND'''\n",
      "    return \" AND \".join([\"%s:%s\" % (k,v) for k,v in query_params.items()])\n",
      "\n",
      "def execute_solr_query(query, query_fields) :\n",
      "    '''convenience function'''\n",
      "    query[\"q\"] = join_with_AND(query_fields) # add q\n",
      "    response = solr.search(**query)\n",
      "    documents = response.documents\n",
      "    print \"Found %d matching entities in %d entries.\" % (len(documents), len({rd[\"pdb_id\"] for rd in documents}))\n",
      "    return documents\n",
      "\n",
      "query_detail = {                        \n",
      "    \"pfam_name\"  : \"Lipocalin\",\n",
      "    \"resolution\" : \"[1 TO 2]\",\n",
      "}\n",
      "query = {                                                                       \n",
      "    \"rows\" : pow(10,8), # i.e. all matching documents are required in response\n",
      "    \"fl\"   : \"pdb_id, entity_id\", # restrict the returned documents to these fields only\n",
      "}\n",
      "\n",
      "docs = execute_solr_query(query, query_detail)"
     ],
     "language": "python",
     "metadata": {},
     "outputs": [
      {
       "output_type": "stream",
       "stream": "stdout",
       "text": [
        "Found 194 matching entities in 194 entries.\n"
       ]
      }
     ],
     "prompt_number": 60
    },
    {
     "cell_type": "markdown",
     "metadata": {},
     "source": [
      "Let us narrow down to proteins of human origin."
     ]
    },
    {
     "cell_type": "code",
     "collapsed": false,
     "input": [
      "query_detail = {                        \n",
      "    \"pfam_name\"  : \"Lipocalin\",\n",
      "    \"resolution\" : \"[1 TO 2]\",\n",
      "    \"tax_id\"     : \"9606\",\n",
      "}\n",
      "query = {                                                                       \n",
      "    \"rows\" : pow(10,8), # i.e. all matching documents are required in response\n",
      "    \"fl\"   : \"pdb_id, entity_id\", # restrict the returned documents to these fields only\n",
      "}\n",
      "\n",
      "docs = execute_solr_query(query, query_detail)"
     ],
     "language": "python",
     "metadata": {},
     "outputs": [
      {
       "output_type": "stream",
       "stream": "stdout",
       "text": [
        "Found 86 matching entities in 86 entries.\n"
       ]
      }
     ],
     "prompt_number": 61
    },
    {
     "cell_type": "markdown",
     "metadata": {},
     "source": [
      "Let us look for entries deposited by Kleywegt."
     ]
    },
    {
     "cell_type": "code",
     "collapsed": false,
     "input": [
      "query_detail = {                        \n",
      "    \"pfam_name\"     : \"Lipocalin\",\n",
      "    \"resolution\"    : \"[1 TO 2]\",\n",
      "    \"tax_id\"        : \"9606\",\n",
      "    \"entry_authors\" : \"*Kleywegt*\",\n",
      "}\n",
      "query = {                                                                       \n",
      "    \"rows\" : pow(10,8), # i.e. all matching documents are required in response\n",
      "    \"fl\"   : \"pdb_id, entity_id\", # restrict the returned documents to these fields only\n",
      "}\n",
      "\n",
      "docs = execute_solr_query(query, query_detail)"
     ],
     "language": "python",
     "metadata": {},
     "outputs": [
      {
       "output_type": "stream",
       "stream": "stdout",
       "text": [
        "Found 2 matching entities in 2 entries.\n"
       ]
      }
     ],
     "prompt_number": 64
    },
    {
     "cell_type": "heading",
     "level": 1,
     "metadata": {},
     "source": [
      "Your turn!"
     ]
    },
    {
     "cell_type": "markdown",
     "metadata": {},
     "source": [
      "Can you now query PDBe Solr instance to find entries that match the following criteria?\n",
      "* entries published in Nature and containing transmembrane protein.\n",
      "* number of SCOP domain families in entries that have homo-tetramer as the most likely assembly."
     ]
    }
   ],
   "metadata": {}
  }
 ]
}