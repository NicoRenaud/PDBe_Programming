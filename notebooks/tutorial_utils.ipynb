{
 "metadata": {
  "name": "",
  "signature": "sha256:6e4f83f573e1f401ddf69f659274dee5ae6e220c12ea5b1eacd9a2cb8c450a3d"
 },
 "nbformat": 3,
 "nbformat_minor": 0,
 "worksheets": [
  {
   "cells": [
    {
     "cell_type": "heading",
     "level": 1,
     "metadata": {},
     "source": [
      "Tutorial Utilities"
     ]
    },
    {
     "cell_type": "markdown",
     "metadata": {},
     "source": [
      "This notebook is a collection of useful functions used in notebooks."
     ]
    },
    {
     "cell_type": "heading",
     "level": 3,
     "metadata": {},
     "source": [
      "Which API URL?"
     ]
    },
    {
     "cell_type": "markdown",
     "metadata": {},
     "source": [
      "You should generally use the production URL of the API."
     ]
    },
    {
     "cell_type": "code",
     "collapsed": false,
     "input": [
      "PDBE_API_URL = \"http://www.ebi.ac.uk/pdbe/api\""
     ],
     "language": "python",
     "metadata": {},
     "outputs": [],
     "prompt_number": 4
    },
    {
     "cell_type": "markdown",
     "metadata": {},
     "source": [
      "The API also has a development instance meant for beta testing and pre-release hosting, available at :"
     ]
    },
    {
     "cell_type": "code",
     "collapsed": false,
     "input": [
      "PDBE_API_URL = \"http://wwwdev.ebi.ac.uk/pdbe/api\""
     ],
     "language": "python",
     "metadata": {},
     "outputs": []
    },
    {
     "cell_type": "markdown",
     "metadata": {},
     "source": [
      "At the time of writing this notebook (Nov 2014), the API was not released on www. So let us use the wwwdev instance, otherwise just comment the line above."
     ]
    },
    {
     "cell_type": "heading",
     "level": 3,
     "metadata": {},
     "source": [
      "Logger setup"
     ]
    },
    {
     "cell_type": "raw",
     "metadata": {},
     "source": [
      "It is a good practice to setup a logger."
     ]
    },
    {
     "cell_type": "code",
     "collapsed": false,
     "input": [
      "import logging, sys\n",
      "\n",
      "# configure the logger\n",
      "# btw, reload is just a hack to make logging work in the notebook, it's usually uncessary\n",
      "reload(logging)\n",
      "logging.basicConfig(\n",
      "    level=logging.DEBUG, stream=sys.stdout,\n",
      "    format='LOG|%(asctime)s|%(levelname)s  %(message)s', datefmt='%d-%b-%Y %H:%M:%S'\n",
      ")"
     ],
     "language": "python",
     "metadata": {},
     "outputs": [],
     "prompt_number": 3
    },
    {
     "cell_type": "heading",
     "level": 3,
     "metadata": {},
     "source": [
      "Function to get API data"
     ]
    },
    {
     "cell_type": "markdown",
     "metadata": {},
     "source": [
      "Call API and get python objects from returned json. Make multiple API calls if required."
     ]
    },
    {
     "cell_type": "code",
     "collapsed": false,
     "input": [
      "import json, urllib2\n",
      "\n",
      "def get_PDBe_API_data(api_url) :\n",
      "    num_trials = 3\n",
      "    for trial_number in range(num_trials) :\n",
      "        try :\n",
      "            return json.loads(urllib2.urlopen(api_url).read())\n",
      "        except Exception, err :\n",
      "            logging.warn(\"Error fetching PDBe-API data! Trial number %d for call %s.\" % (trial_number, api_url))\n",
      "            if trial_number == num_trials-1 :\n",
      "                raise err"
     ],
     "language": "python",
     "metadata": {},
     "outputs": []
    }
   ],
   "metadata": {}
  }
 ]
}