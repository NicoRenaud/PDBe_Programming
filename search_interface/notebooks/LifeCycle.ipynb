{
 "cells": [
  {
   "cell_type": "markdown",
   "metadata": {},
   "source": [
    "# Supplementary data for \"The Life Cycle of Structural Biology Data\"\n",
    "This paper was submitted to the Data Science Journal.\n"
   ]
  },
  {
   "cell_type": "markdown",
   "metadata": {},
   "source": [
    "## New Entries Released Each Year"
   ]
  },
  {
   "cell_type": "code",
   "execution_count": 1,
   "metadata": {},
   "outputs": [
    {
     "data": {
      "text/plain": [
       "<Figure size 640x480 with 1 Axes>"
      ]
     },
     "metadata": {},
     "output_type": "display_data"
    }
   ],
   "source": [
    "PDBE_SOLR_URL = \"http://www.ebi.ac.uk/pdbe/search/pdb\"                 \n",
    "# or https://www.ebi.ac.uk/pdbe/search/pdb/select?rows=0&q=status:REL&wt=json\n",
    "\n",
    "from mysolr import Solr\n",
    "solr = Solr(PDBE_SOLR_URL, version=4)\n",
    "\n",
    "response = solr.search(**{\n",
    "        \"rows\" : 0, # \"fl\" : \"deposition_year\", \n",
    "        \"q\" : 'status:REL',\n",
    "        \"facet\" : \"true\", \"facet.limit\" : 1000000, \"facet.mincount\" : 1,\n",
    "        \"facet.field\" : \"deposition_year\",\n",
    "    }\n",
    ")\n",
    "from matplotlib import pyplot as plt\n",
    "\n",
    "# skip current year, which is not yet complete\n",
    "years = sorted( response.facets['facet_fields']['deposition_year'] )[0:-1]\n",
    "\n",
    "fig = plt.figure()\n",
    "plt.yscale('log')\n",
    "plt.ylabel('PDB entries released')\n",
    "plt.plot(years, [ response.facets['facet_fields']['deposition_year'][year] for year in years])\n",
    "plt.xticks(['1980', '1990', '2000', '2010'])\n",
    "fig.autofmt_xdate()\n",
    "plt.show()"
   ]
  },
  {
   "cell_type": "markdown",
   "metadata": {},
   "source": [
    "## Complexes by year\n",
    "If an entry referes to more than one macromolecule (i.e. is heteromeric) then the work is more challenging that research of a single protein.\n",
    "\n",
    "There is another case. A project might target a homodimer, or more generally a homo-oligomer. For a homomeric protein structure, the PDB does not record the submitter's judgement of whether the contacts between the molecules are complexation of biological relevance, or merely crystal contacts. So we cannot distinguish targeted work on homo-complexes from other work on single species. We therefore report simply the proportion of projects that aim at one rather than many macromolecular species."
   ]
  },
  {
   "cell_type": "code",
   "execution_count": 2,
   "metadata": {},
   "outputs": [
    {
     "data": {
      "text/plain": [
       "{'val': 2014,\n",
       " 'count': 19875,\n",
       " 'grouped_depositionyear_count': 9365,\n",
       " 'facet1': {'buckets': [{'val': 'hetero',\n",
       "    'count': 12649,\n",
       "    'grouped_facet_count': 2244},\n",
       "   {'val': 'homo', 'count': 7121, 'grouped_facet_count': 7121}]}}"
      ]
     },
     "execution_count": 2,
     "metadata": {},
     "output_type": "execute_result"
    }
   ],
   "source": [
    "response = solr.search(**{\n",
    "        \"rows\" : 0, \"fl\" : \"deposition_year\", \n",
    "        \"q\" : 'status:REL',\n",
    "        'json.facet': \"\"\"{\n",
    "            deposition_year:{\n",
    "                type:range,start:1971,end:2018,gap:1,field:deposition_year,limit:20,\n",
    "                facet:{\n",
    "                    facet1:{\n",
    "                        type:terms, field:assembly_form,\n",
    "                        facet:{\n",
    "                            grouped_facet_count:\\\"unique(pdb_id)\\\"\n",
    "                        }\n",
    "                    },\n",
    "                    grouped_depositionyear_count:\\\"unique(pdb_id)\\\"\n",
    "                }\n",
    "            }\n",
    "        }\"\"\"\n",
    "    }\n",
    ")\n",
    "# see an example of the response\n",
    "response.raw_content['facets']['deposition_year']['buckets'][-4] "
   ]
  },
  {
   "cell_type": "code",
   "execution_count": 6,
   "metadata": {},
   "outputs": [
    {
     "data": {
      "image/png": "[encoded data removed]",
      "text/plain": [
       "<Figure size 432x288 with 1 Axes>"
      ]
     },
     "metadata": {},
     "output_type": "display_data"
    }
   ],
   "source": [
    "import pandas\n",
    "\n",
    "rows = []\n",
    "for bucket in response.raw_content['facets']['deposition_year']['buckets']:\n",
    "    year = int(bucket['val'])\n",
    "    hh = {'homo':0, 'hetero':0}\n",
    "    if bucket['count'] > 0:\n",
    "        total = bucket['grouped_depositionyear_count']\n",
    "        for bbucket in bucket['facet1']['buckets']:\n",
    "            hh[ bbucket['val'] ] = bbucket['grouped_facet_count']\n",
    "            total = total - bbucket['grouped_facet_count']\n",
    "        assert 0==total # sanity check\n",
    "    rows.append([ year, hh['homo'], hh['hetero'] ])  \n",
    "\n",
    "df = pandas.DataFrame(rows, columns=['year', 'homomeric', 'heteromeric']) \n",
    "df = df[df.year>1977]\n",
    "\n",
    "plt.figure()\n",
    "plt.plot(df.year, df.homomeric/(df.homomeric+df.heteromeric) )\n",
    "plt.title('Fraction of new structures that contain a single macromolecular species')\n",
    "plt.ylim([0, 1])\n",
    "plt.show()"
   ]
  },
  {
   "cell_type": "markdown",
   "metadata": {},
   "source": [
    "# New entries, by superkingdom"
   ]
  },
  {
   "cell_type": "code",
   "execution_count": 3,
   "metadata": {},
   "outputs": [
    {
     "data": {
      "text/plain": [
       "{'val': 1981,\n",
       " 'count': 27,\n",
       " 'grouped_depositionyear_count': 25,\n",
       " 'facet1': {'buckets': [{'val': 'Eukaryota',\n",
       "    'count': 21,\n",
       "    'grouped_facet_count': 20},\n",
       "   {'val': 'Bacteria', 'count': 3, 'grouped_facet_count': 3}]}}"
      ]
     },
     "execution_count": 3,
     "metadata": {},
     "output_type": "execute_result"
    }
   ],
   "source": [
    "response = solr.search(**{\n",
    "        \"rows\" : 0, \"fl\" : \"deposition_year\", \n",
    "        \"q\" : 'status:REL',\n",
    "        'json.facet': \"\"\"{\n",
    "            deposition_year:{\n",
    "                type:range,start:1971,end:2018,gap:1,field:deposition_year,limit:20,\n",
    "                facet:{\n",
    "                    facet1:{\n",
    "                        type:terms, field:superkingdom,\n",
    "                        facet:{\n",
    "                            grouped_facet_count:\\\"unique(pdb_id)\\\"\n",
    "                        }\n",
    "                    },\n",
    "                    grouped_depositionyear_count:\\\"unique(pdb_id)\\\"\n",
    "                }\n",
    "            }\n",
    "        }\"\"\"\n",
    "    }\n",
    ")\n",
    "\n",
    "# see an example of the response\n",
    "response.raw_content['facets']['deposition_year']['buckets'][10] "
   ]
  },
  {
   "cell_type": "code",
   "execution_count": 14,
   "metadata": {},
   "outputs": [
    {
     "data": {
      "image/png": "[encoded data removed]",
      "text/plain": [
       "<Figure size 432x288 with 1 Axes>"
      ]
     },
     "metadata": {},
     "output_type": "display_data"
    }
   ],
   "source": [
    "import pandas\n",
    "\n",
    "values = ['Eukaryota', 'Archaea',  'Viruses', 'Bacteria', 'unknown' ]\n",
    "\n",
    "def get_df(values):\n",
    "    counts0 = {}\n",
    "    for value in values:\n",
    "        counts0[value] = 0\n",
    "    rows = []\n",
    "    for bucket in response.raw_content['facets']['deposition_year']['buckets']:\n",
    "        year = int(bucket['val'])\n",
    "        counts = dict(counts0)\n",
    "        if bucket['count'] > 0:\n",
    "            total = bucket['grouped_depositionyear_count']\n",
    "            for bbucket in bucket['facet1']['buckets']:\n",
    "                counts[ bbucket['val'] ] = bbucket['grouped_facet_count']\n",
    "                total = total - bbucket['grouped_facet_count']\n",
    "            counts['unknown'] = total\n",
    "        rows.append([year]+[ counts[label] for label in counts0])  \n",
    "\n",
    "    df = pandas.DataFrame(rows, columns=['year']+ list(counts0.keys()) )\n",
    "    df = df[df.year>1977]\n",
    "    df['total'] = df.Eukaryota+df.Archaea+df.Viruses+df.Bacteria+df.unknown\n",
    "    return df\n",
    "\n",
    "df = get_df(['Archaea',  'Viruses', 'Bacteria','Eukaryota',  'unknown' ])\n",
    "\n",
    "def plot_df(df, values):\n",
    "    plt.figure()\n",
    "    running_total = pandas.Series([0]*len(df), index=df.index)\n",
    "    for value in values:\n",
    "        series = df[value] / df['total']\n",
    "        plt.fill_between(df.year, running_total, running_total+series, label=value)\n",
    "        running_total = running_total + series\n",
    "    #archaea = df.Archaea/df['total']\n",
    "    #viruses = df.Viruses/df['total']\n",
    "    #bacteria = df.Bacteria/df['total']\n",
    "    #eukaryota = df.Eukaryota/df['total']\n",
    "    #plt.fill_between(df.year, archaea, archaea+viruses, label='Viruses' )\n",
    "    #plt.fill_between(df.year, archaea+viruses, archaea+viruses+bacteria, label='Bacteria' )\n",
    "    #plt.fill_between(df.year, archaea+viruses+bacteria, archaea+viruses+bacteria+eukaryota, label='Eukaryota' )\n",
    "    #plt.fill_between(df.year, running_total, [1]*len(df), color='black', label='unknown' )\n",
    "    plt.legend()\n",
    "    plt.show()\n",
    "\n",
    "plot_df(df, ['Archaea',  'Viruses', 'Bacteria','Eukaryota',  'unknown' ])"
   ]
  },
  {
   "cell_type": "markdown",
   "metadata": {},
   "source": [
    "## Count entries by experiment type"
   ]
  },
  {
   "cell_type": "code",
   "execution_count": 12,
   "metadata": {},
   "outputs": [
    {
     "data": {
      "text/plain": [
       "OrderedDict([('X-ray diffraction', 127197),\n",
       "             ('Solution NMR', 12203),\n",
       "             ('Electron Microscopy', 2242),\n",
       "             ('Neutron Diffraction', 142),\n",
       "             ('Hybrid', 125),\n",
       "             ('Solid-state NMR', 111),\n",
       "             ('Electron crystallography', 106),\n",
       "             ('X-ray solution scattering', 48),\n",
       "             ('Fiber diffraction', 30),\n",
       "             ('X-ray powder diffraction', 19),\n",
       "             ('EPR', 8),\n",
       "             ('Theoretical Model', 6),\n",
       "             ('Infrared spectroscopy', 4),\n",
       "             ('Fluorescence transfer', 1)])"
      ]
     },
     "execution_count": 12,
     "metadata": {},
     "output_type": "execute_result"
    }
   ],
   "source": [
    "response = solr.search(**{\n",
    "    \"rows\" : 0, \"fl\" : \"deposition_year\", \n",
    "    \"q\" : 'status:REL',\n",
    "    \"facet\" : \"true\", \"facet.limit\" : 10000000, \"facet.mincount\" : 1,\n",
    "    \"facet.field\" : \"experimental_method\",\n",
    "    \"group\" : \"true\", \"group.facet\" : \"true\",\n",
    "    \"group.field\" : \"pdb_id\",\n",
    "})\n",
    "\n",
    "response.facets['facet_fields']['experimental_method']\n"
   ]
  },
  {
   "cell_type": "markdown",
   "metadata": {},
   "source": [
    "## Count entries by year of deposition"
   ]
  },
  {
   "cell_type": "markdown",
   "metadata": {},
   "source": [
    "Let us now facet on year of deposition and see the years in which an entry was deposited for carbonic anhydrases."
   ]
  }
 ],
 "metadata": {
  "kernelspec": {
   "display_name": "Python 3",
   "language": "python",
   "name": "python3"
  },
  "language_info": {
   "codemirror_mode": {
    "name": "ipython",
    "version": 3
   },
   "file_extension": ".py",
   "mimetype": "text/x-python",
   "name": "python",
   "nbconvert_exporter": "python",
   "pygments_lexer": "ipython3",
   "version": "3.6.3"
  }
 },
 "nbformat": 4,
 "nbformat_minor": 1
}
