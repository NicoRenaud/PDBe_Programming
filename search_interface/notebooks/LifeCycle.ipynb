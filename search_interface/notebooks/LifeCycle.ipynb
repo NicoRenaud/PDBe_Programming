{
 "cells": [
  {
   "cell_type": "markdown",
   "metadata": {},
   "source": [
    "# Supplementary data for \"The Life Cycle of Structural Biology Data\"\n",
    "This paper was submitted to the Data Science Journal.\n",
    "\n",
    "TODO https://www.ebi.ac.uk/pdbe/search/pdb/select?rows=0&q=status:REL&json.facet={deposition_year:{type:range,start:1971,end:2018,gap:1,field:deposition_year,limit:20,facet:{homo_hetero:{type:terms,%20field:assembly_form,facet:{facet:{type:terms,field:assembly_composition,facet:{grouped_assemblycomposition_count:%22unique(pdb_id)%22}},grouped_homo_hetero_count:%22unique(pdb_id)%22}},grouped_depositionyear_count:%22unique(pdb_id)%22}}}"
   ]
  },
  {
   "cell_type": "markdown",
   "metadata": {},
   "source": [
    "## New Entries Released Each Year"
   ]
  },
  {
   "cell_type": "code",
   "execution_count": 67,
   "metadata": {},
   "outputs": [
    {
     "data": {
      "image/png": "[encoded data removed]",
      "text/plain": [
       "<Figure size 432x288 with 1 Axes>"
      ]
     },
     "metadata": {},
     "output_type": "display_data"
    }
   ],
   "source": [
    "PDBE_SOLR_URL = \"http://www.ebi.ac.uk/pdbe/search/pdb\"                 \n",
    "# or https://www.ebi.ac.uk/pdbe/search/pdb/select?rows=0&q=status:REL&wt=json\n",
    "\n",
    "from mysolr import Solr\n",
    "solr = Solr(PDBE_SOLR_URL, version=4)\n",
    "\n",
    "response = solr.search(**{\n",
    "        \"rows\" : 0, \"fl\" : \"deposition_year\", \n",
    "        \"q\" : 'status:REL',\n",
    "        \"facet\" : \"true\", \"facet.limit\" : UNLIMITED_ROWS, \"facet.mincount\" : 1,\n",
    "        \"facet.field\" : \"deposition_year\",\n",
    "    }\n",
    ")\n",
    "from matplotlib import pyplot as plt\n",
    "\n",
    "# skip current year, which is not yet complete\n",
    "years = sorted( response.facets['facet_fields']['deposition_year'] )[0:-1]\n",
    "\n",
    "fig = plt.figure()\n",
    "plt.yscale('log')\n",
    "plt.ylabel('PDB entries released')\n",
    "plt.plot(years, [ response.facets['facet_fields']['deposition_year'][year] for year in years])\n",
    "plt.xticks(['1980', '1990', '2000', '2010'])\n",
    "fig.autofmt_xdate()\n",
    "plt.show()"
   ]
  },
  {
   "cell_type": "code",
   "execution_count": null,
   "metadata": {},
   "outputs": [],
   "source": []
  },
  {
   "cell_type": "markdown",
   "metadata": {},
   "source": [
    "## Count entries by experiment type"
   ]
  },
  {
   "cell_type": "markdown",
   "metadata": {},
   "source": [
    "Now let us see a summary of experiment types that have been used to solve carbonic anhydrases.\n",
    "Since experiment is a property entry, and not molecules within it, we need to group on pdb_id and facet in a group-sensitive way so that the counts we get are for entries."
   ]
  },
  {
   "cell_type": "code",
   "execution_count": 8,
   "metadata": {},
   "outputs": [
    {
     "name": "stdout",
     "output_type": "stream",
     "text": [
      "LOG|11-Jul-2018 09:53:16|INFO  There are 0 experimental methods with this protein's structure has been studied.\n"
     ]
    }
   ],
   "source": [
    "response = solr.search(**{\n",
    "    \"rows\" : UNLIMITED_ROWS, \"fl\" : \"pdb_id, entity_id\",\n",
    "    \"q\" : join_with_AND(selectors),\n",
    "    \"facet\" : \"true\", \"facet.limit\" : UNLIMITED_ROWS, \"facet.mincount\" : 1,\n",
    "    \"facet.field\" : \"experimental_method\",\n",
    "    \"group\" : \"true\", \"group.facet\" : \"true\",\n",
    "    \"group.field\" : \"pdb_id\",\n",
    "})\n",
    "\n",
    "expt_counts = response.facets['facet_fields']['experimental_method']\n",
    "logging.info(\"There are %d experimental methods with this protein's structure has been studied.\" % len(expt_counts))\n",
    "for expt, count in expt_counts.items() :\n",
    "    logging.info(\"%s : %d\" % (expt,count))"
   ]
  },
  {
   "cell_type": "markdown",
   "metadata": {},
   "source": [
    "## Count entries by year of deposition"
   ]
  },
  {
   "cell_type": "markdown",
   "metadata": {},
   "source": [
    "Let us now facet on year of deposition and see the years in which an entry was deposited for carbonic anhydrases."
   ]
  },
  {
   "cell_type": "code",
   "execution_count": 9,
   "metadata": {},
   "outputs": [
    {
     "name": "stdout",
     "output_type": "stream",
     "text": [
      "LOG|11-Jul-2018 09:53:19|INFO  There are 0 years in which this protein's structure has been studied.\n"
     ]
    }
   ],
   "source": [
    "response = solr.search(**{\n",
    "    \"rows\" : UNLIMITED_ROWS, \"fl\" : \"pdb_id, entity_id\",\n",
    "    \"q\" : join_with_AND(selectors),\n",
    "    \"facet\" : \"true\", \"facet.limit\" : UNLIMITED_ROWS, \"facet.mincount\" : 1,\n",
    "    \"facet.field\" : \"deposition_year\",\n",
    "    \"group\" : \"true\", \"group.facet\" : \"true\",\n",
    "    \"group.field\" : \"pdb_id\",\n",
    "})\n",
    "year_counts = response.facets['facet_fields']['deposition_year']\n",
    "logging.info(\"There are %d years in which this protein's structure has been studied.\" % len(year_counts))\n",
    "for year in sorted(year_counts.keys(), key=lambda x : int(x)) :\n",
    "    logging.info(\"%s : %d\" % (year,year_counts[year]))"
   ]
  },
  {
   "cell_type": "markdown",
   "metadata": {},
   "source": [
    "Note that we do not have to facet on one field at a time - we could have facetted on multiple fields individually in the same call - just provide comma-separated fields list."
   ]
  },
  {
   "cell_type": "markdown",
   "metadata": {},
   "source": [
    "## Range-based facets"
   ]
  },
  {
   "cell_type": "markdown",
   "metadata": {},
   "source": [
    "Facets can be defined to be range based, e.g. this is useful for fields like resolution, year, length of crystallographic cell, etc."
   ]
  },
  {
   "cell_type": "code",
   "execution_count": 10,
   "metadata": {},
   "outputs": [
    {
     "name": "stdout",
     "output_type": "stream",
     "text": [
      "LOG|11-Jul-2018 09:53:22|INFO  Resolutions at which this protein has been solved is as follows:\n"
     ]
    }
   ],
   "source": [
    "response = solr.search(**{\n",
    "    \"rows\" : UNLIMITED_ROWS, \"fl\" : \"pdb_id, entity_id\",\n",
    "    \"q\" : join_with_AND(selectors),\n",
    "    \"facet\" : \"true\", \"facet.limit\" : UNLIMITED_ROWS, \"facet.mincount\" : 1,\n",
    "    \"facet.field\" : \"resolution\",\n",
    "    \"facet.range\" : \"resolution\",\n",
    "    \"f.resolution.facet.range.start\" : \"0.0\",\n",
    "    \"f.resolution.facet.range.end\" : \"100\",\n",
    "    \"f.resolution.facet.range.gap\" : \"0.5\",\n",
    "    \"f.resolution.facet.range.other\" : \"between\",\n",
    "    \"f.resolution.facet.range.include\" : \"upper\",\n",
    "    \"group\" : \"true\", \"group.facet\" : \"true\",\n",
    "    \"group.field\" : \"pdb_id\",\n",
    "})\n",
    "\n",
    "import string, collections\n",
    "\n",
    "resol_counts = response.facets['facet_ranges']['resolution']['counts']\n",
    "resol_counts = collections.OrderedDict([(resol_counts[rci], resol_counts[rci+1]) for rci in range(0, len(resol_counts), 2)])\n",
    "logging.info(\"Resolutions at which this protein has been solved is as follows:\")\n",
    "for resol in sorted(resol_counts.keys(), key=lambda x : string.atof(x)) :\n",
    "    logging.info(\"%3d entries in resolution bin starting %s\" % (resol_counts[resol], resol))"
   ]
  },
  {
   "cell_type": "markdown",
   "metadata": {},
   "source": [
    "## Hierarchical facetting"
   ]
  },
  {
   "cell_type": "markdown",
   "metadata": {},
   "source": [
    "Factes can be used hierarchically too, e.g. facet first on resolution, then on year, etc.\n",
    "Unfortunately mysolr does not support this feature, but the good news is that you can write simple python on documents returned and achieve the same effect.\n",
    "e.g. let us see how to find distribution of resolution vs deposition year in this set of entries."
   ]
  },
  {
   "cell_type": "code",
   "execution_count": 11,
   "metadata": {},
   "outputs": [
    {
     "name": "stdout",
     "output_type": "stream",
     "text": [
      "LOG|11-Jul-2018 09:53:26|INFO            \n"
     ]
    }
   ],
   "source": [
    "response = solr.search(**{\n",
    "    \"rows\" : UNLIMITED_ROWS,\n",
    "    \"fl\" : \"pdb_id, entity_id, deposition_year, resolution\",\n",
    "    \"q\" : join_with_AND(selectors),\n",
    "})\n",
    "\n",
    "resbin_width = 0.5\n",
    "def resol_bin(resol) :\n",
    "    import decimal\n",
    "    return decimal.Decimal(int(resol/resbin_width) * resbin_width)\n",
    "\n",
    "yearbin_width = 5\n",
    "def depyear_bin(year) :\n",
    "    return (year / yearbin_width) * yearbin_width\n",
    "\n",
    "entry_counted = set()\n",
    "counts = collections.defaultdict( lambda : collections.defaultdict( lambda: 0 ) )\n",
    "for adoc in response.documents :\n",
    "    if adoc['pdb_id'] not in entry_counted :\n",
    "        res_bin = resol_bin(adoc['resolution'])\n",
    "        year_bin = depyear_bin(adoc['deposition_year'])\n",
    "        counts[year_bin][res_bin] += 1\n",
    "\n",
    "import itertools\n",
    "year_bins = sorted(counts.keys())\n",
    "resol_bins = sorted(set( itertools.chain(*[v.keys() for v in counts.values()]) ))\n",
    "\n",
    "logging.info(\"          \" + \"  \".join(\"%.1f-%.1f\" % (rb,float(rb)+resbin_width) for rb in resol_bins))\n",
    "for year in year_bins :\n",
    "    to_print = [\"%d-%d\" % (year,year+yearbin_width)]\n",
    "    total = 0\n",
    "    for resol in resol_bins :\n",
    "        total += counts.get(year, {}).get(resol, 0)\n",
    "    for resol in resol_bins :\n",
    "        count = counts.get(year, {}).get(resol, 0)\n",
    "        to_print.append(count) #, #int(count*100./total),\n",
    "    logging.info(to_print[0] + \"    \".join([\"%5d\" % tp for tp in to_print[1:]]))"
   ]
  },
  {
   "cell_type": "markdown",
   "metadata": {},
   "source": [
    "Note how higher resolution structures have increased over the years."
   ]
  },
  {
   "cell_type": "markdown",
   "metadata": {},
   "source": [
    "## Your turn!"
   ]
  },
  {
   "cell_type": "markdown",
   "metadata": {},
   "source": [
    "Find entries with protein of your interest, and facet by organism, genus, etc."
   ]
  },
  {
   "cell_type": "code",
   "execution_count": null,
   "metadata": {},
   "outputs": [],
   "source": []
  }
 ],
 "metadata": {
  "kernelspec": {
   "display_name": "Python 3",
   "language": "python",
   "name": "python3"
  },
  "language_info": {
   "codemirror_mode": {
    "name": "ipython",
    "version": 3
   },
   "file_extension": ".py",
   "mimetype": "text/x-python",
   "name": "python",
   "nbconvert_exporter": "python",
   "pygments_lexer": "ipython3",
   "version": "3.6.3"
  }
 },
 "nbformat": 4,
 "nbformat_minor": 1
}
