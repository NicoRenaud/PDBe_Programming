{
 "cells": [
  {
   "cell_type": "markdown",
   "metadata": {},
   "source": [
    "# Display the development of the PDB over time\n",
    "\n",
    "This is supplementary data for \"The Life Cycle of Structural Biology Data\", submitted to the Data Science Journal.\n",
    "\n",
    "[PDBe Documentation](https://www.ebi.ac.uk/pdbe/api/doc/search.html).\n"
   ]
  },
  {
   "cell_type": "markdown",
   "metadata": {},
   "source": [
    "## New Entries Released Each Year"
   ]
  },
  {
   "cell_type": "code",
   "execution_count": 2,
   "metadata": {},
   "outputs": [
    {
     "data": {
      "image/png": "[encoded data removed]",
      "text/plain": [
       "<Figure size 432x288 with 1 Axes>"
      ]
     },
     "metadata": {},
     "output_type": "display_data"
    }
   ],
   "source": [
    "import pandas\n",
    "\n",
    "PDBE_SOLR_URL = \"http://www.ebi.ac.uk/pdbe/search/pdb\"                 \n",
    "# or https://www.ebi.ac.uk/pdbe/search/pdb/select?rows=0&q=status:REL&wt=json\n",
    "\n",
    "from mysolr import Solr\n",
    "solr = Solr(PDBE_SOLR_URL, version=4)\n",
    "\n",
    "response = solr.search(**{\n",
    "        \"rows\" : 0, # \"fl\" : \"deposition_year\", \n",
    "        \"q\" : 'status:REL',\n",
    "        \"facet\" : \"true\", \"facet.limit\" : 1000000, \"facet.mincount\" : 1,\n",
    "        \"facet.field\" : \"deposition_year\",\n",
    "    }\n",
    ")\n",
    "from matplotlib import pyplot as plt\n",
    "\n",
    "# skip current year, which is not yet complete\n",
    "years = sorted( response.facets['facet_fields']['deposition_year'] )[0:-1]\n",
    "\n",
    "fig = plt.figure()\n",
    "plt.yscale('log')\n",
    "plt.ylabel('PDB entries released')\n",
    "plt.plot(years, [ response.facets['facet_fields']['deposition_year'][year] for year in years])\n",
    "plt.xticks(['1980', '1990', '2000', '2010'])\n",
    "fig.autofmt_xdate()\n",
    "plt.show()"
   ]
  },
  {
   "cell_type": "markdown",
   "metadata": {},
   "source": [
    "## Complexes by year\n",
    "If an entry referes to more than one macromolecule (i.e. is heteromeric) then the work is more challenging that research of a single protein.\n",
    "\n",
    "There is another case. A project might target a homodimer, or more generally a homo-oligomer. For a homomeric protein structure, the PDB does not record the submitter's judgement of whether the contacts between the molecules are complexation of biological relevance, or merely crystal contacts. So we cannot distinguish targeted work on homo-complexes from other work on single species. We therefore report simply the proportion of projects that aim at one rather than many macromolecular species."
   ]
  },
  {
   "cell_type": "code",
   "execution_count": 4,
   "metadata": {},
   "outputs": [
    {
     "data": {
      "text/plain": [
       "OrderedDict([('hetero', 31116), ('homo', 110874)])"
      ]
     },
     "execution_count": 4,
     "metadata": {},
     "output_type": "execute_result"
    }
   ],
   "source": [
    "import collections\n",
    "\n",
    "# returns all values, in increasing order of frequency\n",
    "def get_values(field):\n",
    "    response = solr.search(**{\n",
    "        \"rows\" : 0, \"fl\" : \"deposition_year\", \n",
    "        \"q\" : 'status:REL',\n",
    "        \"facet\" : \"true\", \"facet.limit\" : 10000000, \"facet.mincount\" : 1,\n",
    "        \"facet.field\" : field,\n",
    "        \"group\" : \"true\", \"group.facet\" : \"true\",\n",
    "        \"group.field\" : \"pdb_id\",\n",
    "    })\n",
    "    d = response.facets['facet_fields'][field]\n",
    "    return  collections.OrderedDict(reversed(list(d.items())))\n",
    "values = get_values('assembly_form')\n",
    "values"
   ]
  },
  {
   "cell_type": "code",
   "execution_count": 5,
   "metadata": {},
   "outputs": [
    {
     "data": {
      "text/plain": [
       "{'val': 2014,\n",
       " 'count': 19875,\n",
       " 'grouped_depositionyear_count': 9365,\n",
       " 'facet1': {'buckets': [{'val': 'hetero',\n",
       "    'count': 12649,\n",
       "    'grouped_facet_count': 2244},\n",
       "   {'val': 'homo', 'count': 7121, 'grouped_facet_count': 7121}]}}"
      ]
     },
     "execution_count": 5,
     "metadata": {},
     "output_type": "execute_result"
    }
   ],
   "source": [
    "from string import Template\n",
    "\n",
    "def get_timeline(field):\n",
    "    response = solr.search(**{\n",
    "            \"rows\" : 0, \"fl\" : \"deposition_year\", \n",
    "            \"q\" : 'status:REL',\n",
    "            'json.facet': Template(\"\"\"{\n",
    "                deposition_year:{\n",
    "                    type:range,start:1971,end:2018,gap:1,field:deposition_year,limit:20,\n",
    "                    facet:{\n",
    "                        facet1:{\n",
    "                            type:terms, field: $field,\n",
    "                            facet:{\n",
    "                                grouped_facet_count:\\\"unique(pdb_id)\\\"\n",
    "                            }\n",
    "                        },\n",
    "                        grouped_depositionyear_count:\\\"unique(pdb_id)\\\"\n",
    "                    }\n",
    "                }\n",
    "            }\"\"\").substitute(field=field)\n",
    "        }\n",
    "    )\n",
    "    return response.raw_content['facets']['deposition_year']['buckets']\n",
    "\n",
    "timeline = get_timeline('assembly_form')\n",
    "\n",
    "# see an example of an annual report\n",
    "timeline[-4]"
   ]
  },
  {
   "cell_type": "code",
   "execution_count": 6,
   "metadata": {},
   "outputs": [
    {
     "data": {
      "text/html": [
       "<div>\n",
       "<style scoped>\n",
       "    .dataframe tbody tr th:only-of-type {\n",
       "        vertical-align: middle;\n",
       "    }\n",
       "\n",
       "    .dataframe tbody tr th {\n",
       "        vertical-align: top;\n",
       "    }\n",
       "\n",
       "    .dataframe thead th {\n",
       "        text-align: right;\n",
       "    }\n",
       "</style>\n",
       "<table border=\"1\" class=\"dataframe\">\n",
       "  <thead>\n",
       "    <tr style=\"text-align: right;\">\n",
       "      <th></th>\n",
       "      <th>year</th>\n",
       "      <th>hetero</th>\n",
       "      <th>homo</th>\n",
       "      <th>unknown</th>\n",
       "    </tr>\n",
       "  </thead>\n",
       "  <tbody>\n",
       "    <tr>\n",
       "      <th>7</th>\n",
       "      <td>1978</td>\n",
       "      <td>0</td>\n",
       "      <td>4</td>\n",
       "      <td>0</td>\n",
       "    </tr>\n",
       "    <tr>\n",
       "      <th>8</th>\n",
       "      <td>1979</td>\n",
       "      <td>3</td>\n",
       "      <td>9</td>\n",
       "      <td>0</td>\n",
       "    </tr>\n",
       "    <tr>\n",
       "      <th>9</th>\n",
       "      <td>1980</td>\n",
       "      <td>1</td>\n",
       "      <td>7</td>\n",
       "      <td>0</td>\n",
       "    </tr>\n",
       "    <tr>\n",
       "      <th>10</th>\n",
       "      <td>1981</td>\n",
       "      <td>2</td>\n",
       "      <td>23</td>\n",
       "      <td>0</td>\n",
       "    </tr>\n",
       "    <tr>\n",
       "      <th>11</th>\n",
       "      <td>1982</td>\n",
       "      <td>9</td>\n",
       "      <td>33</td>\n",
       "      <td>0</td>\n",
       "    </tr>\n",
       "  </tbody>\n",
       "</table>\n",
       "</div>"
      ],
      "text/plain": [
       "    year  hetero  homo  unknown\n",
       "7   1978       0     4        0\n",
       "8   1979       3     9        0\n",
       "9   1980       1     7        0\n",
       "10  1981       2    23        0\n",
       "11  1982       9    33        0"
      ]
     },
     "execution_count": 6,
     "metadata": {},
     "output_type": "execute_result"
    }
   ],
   "source": [
    "def get_df(values, timeline):\n",
    "    counts0 = {}\n",
    "    for value in values+['unknown']:\n",
    "        counts0[value] = 0\n",
    "    rows = []\n",
    "    for bucket in timeline:\n",
    "        year = int(bucket['val'])\n",
    "        counts = dict(counts0)\n",
    "        if bucket['count'] > 0:\n",
    "            total = bucket['grouped_depositionyear_count']\n",
    "            for bbucket in bucket['facet1']['buckets']:\n",
    "                counts[ bbucket['val'] ] = bbucket['grouped_facet_count']\n",
    "                total = total - bbucket['grouped_facet_count']\n",
    "            counts['unknown'] = total\n",
    "        rows.append([year]+[ counts[label] for label in counts0])  \n",
    "\n",
    "    df = pandas.DataFrame(rows, columns=['year']+ list(counts0.keys()) )\n",
    "    df = df[df.year>1977]\n",
    "    return df\n",
    "\n",
    "df = get_df(list(values), timeline)\n",
    "df.head()"
   ]
  },
  {
   "cell_type": "code",
   "execution_count": 8,
   "metadata": {},
   "outputs": [
    {
     "data": {
      "image/png": "[encoded data removed]",
      "text/plain": [
       "<Figure size 432x288 with 1 Axes>"
      ]
     },
     "metadata": {},
     "output_type": "display_data"
    }
   ],
   "source": [
    "\n",
    "def plot_df(df, values):    \n",
    "    df['total'] = pandas.Series([0]*len(df), index=df.index)\n",
    "    for value in values+['unknown']:\n",
    "        df['total'] = df['total'] + df[value]\n",
    "    running_total = pandas.Series([0]*len(df), index=df.index)\n",
    "    for value in values:\n",
    "        series = df[value] / df['total']\n",
    "        plt.fill_between(df.year, running_total, running_total+series, label=value)\n",
    "        running_total = running_total + series\n",
    "    plt.fill_between(df.year, running_total, [1]*len(df), color='black', label='unknown' )\n",
    "\n",
    "    \n",
    "plt.figure()\n",
    "plot_df(df, list(values))\n",
    "plt.legend()\n",
    "plt.title('Fraction of new structures that contain more than one macromolecular species')\n",
    "plt.ylim([0, 1])\n",
    "plt.show()"
   ]
  },
  {
   "cell_type": "markdown",
   "metadata": {},
   "source": [
    "# New entries, by superkingdom"
   ]
  },
  {
   "cell_type": "code",
   "execution_count": null,
   "metadata": {},
   "outputs": [],
   "source": [
    "\n",
    "\n",
    "timeline = get_timeline('superkingdom')\n",
    "\n",
    "\n",
    "df = get_df(['Archaea',  'Viruses', 'Bacteria','Eukaryota' ], timeline)\n",
    "\n",
    "plt.figure()\n",
    "plot_df(df, ['Archaea',  'Viruses', 'Bacteria','Eukaryota' ])\n",
    "plt.legend()\n",
    "plt.show()"
   ]
  },
  {
   "cell_type": "markdown",
   "metadata": {},
   "source": [
    "## Count Entries by cellular location"
   ]
  },
  {
   "cell_type": "code",
   "execution_count": null,
   "metadata": {},
   "outputs": [],
   "source": [
    "values"
   ]
  },
  {
   "cell_type": "code",
   "execution_count": null,
   "metadata": {},
   "outputs": [],
   "source": [
    "\n",
    "\n",
    "values = get_values(\"biological_cell_component\")\n",
    "\n",
    "timeline = get_timeline(\"biological_cell_component\")\n",
    "df = get_df(list(values), timeline)\n",
    "plt.figure()\n",
    "plot_df(df, list(values))\n",
    "plt.legend()\n",
    "plt.show()"
   ]
  },
  {
   "cell_type": "markdown",
   "metadata": {},
   "source": [
    "## Count entries by experiment type"
   ]
  },
  {
   "cell_type": "code",
   "execution_count": null,
   "metadata": {},
   "outputs": [],
   "source": [
    "\n",
    "values = get_values(\"experimental_method\")\n",
    "\n",
    "timeline = get_timeline(\"experimental_method\")\n",
    "df = get_df(list(values), timeline)\n",
    "\n",
    "plt.figure()\n",
    "plot_df(df, list(values)[::-1])\n",
    "plt.legend()\n",
    "plt.show()"
   ]
  }
 ],
 "metadata": {
  "kernelspec": {
   "display_name": "Python 3",
   "language": "python",
   "name": "python3"
  },
  "language_info": {
   "codemirror_mode": {
    "name": "ipython",
    "version": 3
   },
   "file_extension": ".py",
   "mimetype": "text/x-python",
   "name": "python",
   "nbconvert_exporter": "python",
   "pygments_lexer": "ipython3",
   "version": "3.6.3"
  }
 },
 "nbformat": 4,
 "nbformat_minor": 1
}
