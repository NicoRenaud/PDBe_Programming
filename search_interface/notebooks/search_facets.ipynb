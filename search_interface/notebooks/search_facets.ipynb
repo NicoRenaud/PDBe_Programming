{
 "cells": [
  {
   "cell_type": "markdown",
   "metadata": {},
   "source": [
    "# Search with facetting and grouping"
   ]
  },
  {
   "cell_type": "markdown",
   "metadata": {},
   "source": [
    "## Introduction"
   ]
  },
  {
   "cell_type": "markdown",
   "metadata": {},
   "source": [
    "In [search_introduction](search_introduction.ipynb), we saw how basic selectors can be progressively added to a Solr query to find entries of interest.<br>\n",
    "Now we will see how facetting, grouping and pivoting can be used to find interesting facts about your favorite protein."
   ]
  },
  {
   "cell_type": "markdown",
   "metadata": {},
   "source": [
    "## Getting started"
   ]
  },
  {
   "cell_type": "markdown",
   "metadata": {},
   "source": [
    "Let us setup logger and create mysolr instance for the Solr core."
   ]
  },
  {
   "cell_type": "code",
   "execution_count": 4,
   "metadata": {},
   "outputs": [],
   "source": [
    "from mysolr import Solr\n",
    "PDBE_SOLR_URL = \"http://wwwdev.ebi.ac.uk/pdbe/search/pdb\"\n",
    "solr = Solr(PDBE_SOLR_URL, version=4)\n",
    "\n",
    "UNLIMITED_ROWS = 10000000 # necessary because default in mysolr is mere 10\n",
    "\n",
    "import logging, sys\n",
    "#reload(logging) # reload is just a hack to make logging work in the notebook, it's usually unnecessary\n",
    "logging.basicConfig( level=logging.INFO, stream=sys.stdout,\n",
    "        format='LOG|%(asctime)s|%(levelname)s  %(message)s', datefmt='%d-%b-%Y %H:%M:%S' )\n",
    "logging.getLogger(\"requests\").setLevel(logging.WARNING)\n",
    "\n",
    "def join_with_AND(selectors) :\n",
    "    return \" AND \".join(\n",
    "        [\"%s:%s\" % (k,v) for k,v in selectors]\n",
    "    )"
   ]
  },
  {
   "cell_type": "markdown",
   "metadata": {},
   "source": [
    "## Find your protein"
   ]
  },
  {
   "cell_type": "markdown",
   "metadata": {},
   "source": [
    "Identifying previous instances of your protein in the PDB is not an easy task because molecule names given by depositors can differ slightly.\n",
    "The SIFTS project assigns UniProt cross-references to proteins in PDB entries and names them consistently.\n",
    "The following function searches and facets on UniProt name to find proteins of our interest.\n",
    "Note how we are using facet options to identify all distinct values of molecule_name."
   ]
  },
  {
   "cell_type": "code",
   "execution_count": 5,
   "metadata": {},
   "outputs": [],
   "source": [
    "def molecule_name_facet_search(selectors) :\n",
    "    response = solr.search(**{\n",
    "        \"rows\" : UNLIMITED_ROWS, \"fl\" : \"pdb_id, entity_id\", \"q\" : join_with_AND(selectors),\n",
    "        \"facet\" : \"true\", \"facet.limit\" : UNLIMITED_ROWS, \"facet.mincount\" : 1,\n",
    "        \"facet.field\" : \"molecule_name\",\n",
    "    })\n",
    "    num_mols = len(response.documents)\n",
    "    mol_name_counts = response.facets['facet_fields']['molecule_name']\n",
    "    logging.info(\"%d molecules found with %d distinct molecule_names.\" % (num_mols, len(mol_name_counts.keys())))\n",
    "    for mol_name, nmol in mol_name_counts.items() :\n",
    "        logging.info(\"%3d molecules are named as %s\" % (nmol, mol_name))"
   ]
  },
  {
   "cell_type": "markdown",
   "metadata": {},
   "source": [
    "Let us assume we are interested in carbonic anhydrases. We write the protein name as a regular expression allowing for case changes on start of word."
   ]
  },
  {
   "cell_type": "code",
   "execution_count": 6,
   "metadata": {},
   "outputs": [
    {
     "name": "stdout",
     "output_type": "stream",
     "text": [
      "LOG|11-Jul-2018 09:53:09|INFO  0 molecules found with 0 distinct molecule_names.\n"
     ]
    }
   ],
   "source": [
    "molecule_name_facet_search([\n",
    "    (    'molecule_name'  ,  '/.*[Cc]arbonic.*[aA]nhydrase.*/'),\n",
    "])"
   ]
  },
  {
   "cell_type": "markdown",
   "metadata": {},
   "source": [
    "Note that there are some unintended hits - one putative and another inhibitor. Let us filter those out."
   ]
  },
  {
   "cell_type": "code",
   "execution_count": 7,
   "metadata": {},
   "outputs": [
    {
     "name": "stdout",
     "output_type": "stream",
     "text": [
      "LOG|11-Jul-2018 09:53:13|INFO  0 molecules found with 0 distinct molecule_names.\n"
     ]
    }
   ],
   "source": [
    "selectors = [\n",
    "    (    'molecule_name'  ,  '/.*[Cc]arbonic.*[aA]nhydrase.*/'),\n",
    "    ('NOT molecule_name'  ,  '(/.*Putative.*/ OR /.*Inhibitor.*/)'),\n",
    "]\n",
    "molecule_name_facet_search(selectors)"
   ]
  },
  {
   "cell_type": "markdown",
   "metadata": {},
   "source": [
    "We can also sharpen our search considerably by using annotations like GO, SCOP etc. But the filters should strike a balance in removing spurious hits and keeping genuine ones.\n",
    "Often optimal filters are found through multiple trials."
   ]
  },
  {
   "cell_type": "markdown",
   "metadata": {},
   "source": [
    "## Count entries by experiment type"
   ]
  },
  {
   "cell_type": "markdown",
   "metadata": {},
   "source": [
    "Now let us see a summary of experiment types that have been used to solve carbonic anhydrases.\n",
    "Since experiment is a property entry, and not molecules within it, we need to group on pdb_id and facet in a group-sensitive way so that the counts we get are for entries."
   ]
  },
  {
   "cell_type": "code",
   "execution_count": 8,
   "metadata": {},
   "outputs": [
    {
     "name": "stdout",
     "output_type": "stream",
     "text": [
      "LOG|11-Jul-2018 09:53:16|INFO  There are 0 experimental methods with this protein's structure has been studied.\n"
     ]
    }
   ],
   "source": [
    "response = solr.search(**{\n",
    "    \"rows\" : UNLIMITED_ROWS, \"fl\" : \"pdb_id, entity_id\",\n",
    "    \"q\" : join_with_AND(selectors),\n",
    "    \"facet\" : \"true\", \"facet.limit\" : UNLIMITED_ROWS, \"facet.mincount\" : 1,\n",
    "    \"facet.field\" : \"experimental_method\",\n",
    "    \"group\" : \"true\", \"group.facet\" : \"true\",\n",
    "    \"group.field\" : \"pdb_id\",\n",
    "})\n",
    "\n",
    "expt_counts = response.facets['facet_fields']['experimental_method']\n",
    "logging.info(\"There are %d experimental methods with this protein's structure has been studied.\" % len(expt_counts))\n",
    "for expt, count in expt_counts.items() :\n",
    "    logging.info(\"%s : %d\" % (expt,count))"
   ]
  },
  {
   "cell_type": "markdown",
   "metadata": {},
   "source": [
    "## Count entries by year of deposition"
   ]
  },
  {
   "cell_type": "markdown",
   "metadata": {},
   "source": [
    "Let us now facet on year of deposition and see the years in which an entry was deposited for carbonic anhydrases."
   ]
  },
  {
   "cell_type": "code",
   "execution_count": 9,
   "metadata": {},
   "outputs": [
    {
     "name": "stdout",
     "output_type": "stream",
     "text": [
      "LOG|11-Jul-2018 09:53:19|INFO  There are 0 years in which this protein's structure has been studied.\n"
     ]
    }
   ],
   "source": [
    "response = solr.search(**{\n",
    "    \"rows\" : UNLIMITED_ROWS, \"fl\" : \"pdb_id, entity_id\",\n",
    "    \"q\" : join_with_AND(selectors),\n",
    "    \"facet\" : \"true\", \"facet.limit\" : UNLIMITED_ROWS, \"facet.mincount\" : 1,\n",
    "    \"facet.field\" : \"deposition_year\",\n",
    "    \"group\" : \"true\", \"group.facet\" : \"true\",\n",
    "    \"group.field\" : \"pdb_id\",\n",
    "})\n",
    "year_counts = response.facets['facet_fields']['deposition_year']\n",
    "logging.info(\"There are %d years in which this protein's structure has been studied.\" % len(year_counts))\n",
    "for year in sorted(year_counts.keys(), key=lambda x : int(x)) :\n",
    "    logging.info(\"%s : %d\" % (year,year_counts[year]))"
   ]
  },
  {
   "cell_type": "markdown",
   "metadata": {},
   "source": [
    "Note that we do not have to facet on one field at a time - we could have facetted on multiple fields individually in the same call - just provide comma-separated fields list."
   ]
  },
  {
   "cell_type": "markdown",
   "metadata": {},
   "source": [
    "## Range-based facets"
   ]
  },
  {
   "cell_type": "markdown",
   "metadata": {},
   "source": [
    "Facets can be defined to be range based, e.g. this is useful for fields like resolution, year, length of crystallographic cell, etc."
   ]
  },
  {
   "cell_type": "code",
   "execution_count": 10,
   "metadata": {},
   "outputs": [
    {
     "name": "stdout",
     "output_type": "stream",
     "text": [
      "LOG|11-Jul-2018 09:53:22|INFO  Resolutions at which this protein has been solved is as follows:\n"
     ]
    }
   ],
   "source": [
    "response = solr.search(**{\n",
    "    \"rows\" : UNLIMITED_ROWS, \"fl\" : \"pdb_id, entity_id\",\n",
    "    \"q\" : join_with_AND(selectors),\n",
    "    \"facet\" : \"true\", \"facet.limit\" : UNLIMITED_ROWS, \"facet.mincount\" : 1,\n",
    "    \"facet.field\" : \"resolution\",\n",
    "    \"facet.range\" : \"resolution\",\n",
    "    \"f.resolution.facet.range.start\" : \"0.0\",\n",
    "    \"f.resolution.facet.range.end\" : \"100\",\n",
    "    \"f.resolution.facet.range.gap\" : \"0.5\",\n",
    "    \"f.resolution.facet.range.other\" : \"between\",\n",
    "    \"f.resolution.facet.range.include\" : \"upper\",\n",
    "    \"group\" : \"true\", \"group.facet\" : \"true\",\n",
    "    \"group.field\" : \"pdb_id\",\n",
    "})\n",
    "\n",
    "import string, collections\n",
    "\n",
    "resol_counts = response.facets['facet_ranges']['resolution']['counts']\n",
    "resol_counts = collections.OrderedDict([(resol_counts[rci], resol_counts[rci+1]) for rci in range(0, len(resol_counts), 2)])\n",
    "logging.info(\"Resolutions at which this protein has been solved is as follows:\")\n",
    "for resol in sorted(resol_counts.keys(), key=lambda x : string.atof(x)) :\n",
    "    logging.info(\"%3d entries in resolution bin starting %s\" % (resol_counts[resol], resol))"
   ]
  },
  {
   "cell_type": "markdown",
   "metadata": {},
   "source": [
    "## Hierarchical facetting"
   ]
  },
  {
   "cell_type": "markdown",
   "metadata": {},
   "source": [
    "Factes can be used hierarchically too, e.g. facet first on resolution, then on year, etc.\n",
    "Unfortunately mysolr does not support this feature, but the good news is that you can write simple python on documents returned and achieve the same effect.\n",
    "e.g. let us see how to find distribution of resolution vs deposition year in this set of entries."
   ]
  },
  {
   "cell_type": "code",
   "execution_count": 11,
   "metadata": {},
   "outputs": [
    {
     "name": "stdout",
     "output_type": "stream",
     "text": [
      "LOG|11-Jul-2018 09:53:26|INFO            \n"
     ]
    }
   ],
   "source": [
    "response = solr.search(**{\n",
    "    \"rows\" : UNLIMITED_ROWS,\n",
    "    \"fl\" : \"pdb_id, entity_id, deposition_year, resolution\",\n",
    "    \"q\" : join_with_AND(selectors),\n",
    "})\n",
    "\n",
    "resbin_width = 0.5\n",
    "def resol_bin(resol) :\n",
    "    import decimal\n",
    "    return decimal.Decimal(int(resol/resbin_width) * resbin_width)\n",
    "\n",
    "yearbin_width = 5\n",
    "def depyear_bin(year) :\n",
    "    return (year / yearbin_width) * yearbin_width\n",
    "\n",
    "entry_counted = set()\n",
    "counts = collections.defaultdict( lambda : collections.defaultdict( lambda: 0 ) )\n",
    "for adoc in response.documents :\n",
    "    if adoc['pdb_id'] not in entry_counted :\n",
    "        res_bin = resol_bin(adoc['resolution'])\n",
    "        year_bin = depyear_bin(adoc['deposition_year'])\n",
    "        counts[year_bin][res_bin] += 1\n",
    "\n",
    "import itertools\n",
    "year_bins = sorted(counts.keys())\n",
    "resol_bins = sorted(set( itertools.chain(*[v.keys() for v in counts.values()]) ))\n",
    "\n",
    "logging.info(\"          \" + \"  \".join(\"%.1f-%.1f\" % (rb,float(rb)+resbin_width) for rb in resol_bins))\n",
    "for year in year_bins :\n",
    "    to_print = [\"%d-%d\" % (year,year+yearbin_width)]\n",
    "    total = 0\n",
    "    for resol in resol_bins :\n",
    "        total += counts.get(year, {}).get(resol, 0)\n",
    "    for resol in resol_bins :\n",
    "        count = counts.get(year, {}).get(resol, 0)\n",
    "        to_print.append(count) #, #int(count*100./total),\n",
    "    logging.info(to_print[0] + \"    \".join([\"%5d\" % tp for tp in to_print[1:]]))"
   ]
  },
  {
   "cell_type": "markdown",
   "metadata": {},
   "source": [
    "Note how higher resolution structures have increased over the years."
   ]
  },
  {
   "cell_type": "markdown",
   "metadata": {},
   "source": [
    "## Your turn!"
   ]
  },
  {
   "cell_type": "markdown",
   "metadata": {},
   "source": [
    "Find entries with protein of your interest, and facet by organism, genus, etc."
   ]
  },
  {
   "cell_type": "code",
   "execution_count": null,
   "metadata": {},
   "outputs": [],
   "source": []
  }
 ],
 "metadata": {
  "kernelspec": {
   "display_name": "Python 3",
   "language": "python",
   "name": "python3"
  },
  "language_info": {
   "codemirror_mode": {
    "name": "ipython",
    "version": 3
   },
   "file_extension": ".py",
   "mimetype": "text/x-python",
   "name": "python",
   "nbconvert_exporter": "python",
   "pygments_lexer": "ipython3",
   "version": "3.6.3"
  }
 },
 "nbformat": 4,
 "nbformat_minor": 1
}
